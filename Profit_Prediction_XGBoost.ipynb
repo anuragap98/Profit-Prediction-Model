{
  "nbformat": 4,
  "nbformat_minor": 0,
  "metadata": {
    "colab": {
      "name": "Profit Prediction - XGBoost",
      "provenance": [],
      "collapsed_sections": []
    },
    "kernelspec": {
      "name": "python3",
      "display_name": "Python 3"
    },
    "language_info": {
      "name": "python"
    }
  },
  "cells": [
    {
      "cell_type": "code",
      "metadata": {
        "id": "PqVywt-Is7hv"
      },
      "source": [
        "import pandas as pd\n",
        "import numpy as np\n",
        "from sklearn.preprocessing import  StandardScaler,MinMaxScaler\n",
        "from sklearn.preprocessing import LabelEncoder\n",
        "from sklearn.preprocessing import OneHotEncoder\n",
        "import matplotlib.pyplot as plt\n",
        "import seaborn as sns\n",
        "from scipy import stats "
      ],
      "execution_count": 1,
      "outputs": []
    },
    {
      "cell_type": "code",
      "metadata": {
        "id": "VIXMC9avtMTB"
      },
      "source": [
        "index = \"/content/drive/MyDrive/Profit Prediction/Dataset/train.csv\""
      ],
      "execution_count": 2,
      "outputs": []
    },
    {
      "cell_type": "code",
      "metadata": {
        "id": "ZKrRCBjKoNo0"
      },
      "source": [
        "index_1 = \"/content/drive/MyDrive/Profit Prediction/Dataset/test.csv\""
      ],
      "execution_count": 3,
      "outputs": []
    },
    {
      "cell_type": "code",
      "metadata": {
        "id": "oKZcqGL5Hfut"
      },
      "source": [
        "from google.colab import drive\n",
        "drive.mount('/content/drive')"
      ],
      "execution_count": null,
      "outputs": []
    },
    {
      "cell_type": "code",
      "metadata": {
        "id": "suPeKDshtMQK"
      },
      "source": [
        "df = pd.read_csv(index)  # Import dataset"
      ],
      "execution_count": 1182,
      "outputs": []
    },
    {
      "cell_type": "code",
      "metadata": {
        "id": "zNNi_yb6oZ4x"
      },
      "source": [
        "df_test = pd.read_csv(index_1)"
      ],
      "execution_count": 6,
      "outputs": []
    },
    {
      "cell_type": "code",
      "metadata": {
        "id": "BVFmwSyptMMm",
        "colab": {
          "base_uri": "https://localhost:8080/",
          "height": 570
        },
        "outputId": "a660feb7-a07e-49fa-d858-c80c3e006046"
      },
      "source": [
        "df"
      ],
      "execution_count": 1183,
      "outputs": [
        {
          "output_type": "execute_result",
          "data": {
            "text/html": [
              "<div>\n",
              "<style scoped>\n",
              "    .dataframe tbody tr th:only-of-type {\n",
              "        vertical-align: middle;\n",
              "    }\n",
              "\n",
              "    .dataframe tbody tr th {\n",
              "        vertical-align: top;\n",
              "    }\n",
              "\n",
              "    .dataframe thead th {\n",
              "        text-align: right;\n",
              "    }\n",
              "</style>\n",
              "<table border=\"1\" class=\"dataframe\">\n",
              "  <thead>\n",
              "    <tr style=\"text-align: right;\">\n",
              "      <th></th>\n",
              "      <th>id</th>\n",
              "      <th>segment</th>\n",
              "      <th>RID</th>\n",
              "      <th>delivery type</th>\n",
              "      <th>class</th>\n",
              "      <th>sub-class</th>\n",
              "      <th>no of items</th>\n",
              "      <th>location</th>\n",
              "      <th>departure city</th>\n",
              "      <th>departure state</th>\n",
              "      <th>address code</th>\n",
              "      <th>placement date</th>\n",
              "      <th>delivery date</th>\n",
              "      <th>price</th>\n",
              "      <th>discount</th>\n",
              "      <th>profit</th>\n",
              "    </tr>\n",
              "  </thead>\n",
              "  <tbody>\n",
              "    <tr>\n",
              "      <th>0</th>\n",
              "      <td>1</td>\n",
              "      <td>Consumer</td>\n",
              "      <td>7981</td>\n",
              "      <td>Standard Class</td>\n",
              "      <td>kariox</td>\n",
              "      <td>phone</td>\n",
              "      <td>2</td>\n",
              "      <td>Central</td>\n",
              "      <td>Houston</td>\n",
              "      <td>Texas</td>\n",
              "      <td>77095</td>\n",
              "      <td>01-01-2018</td>\n",
              "      <td>01-01-2018</td>\n",
              "      <td>16.448</td>\n",
              "      <td>0.2</td>\n",
              "      <td>5.5512</td>\n",
              "    </tr>\n",
              "    <tr>\n",
              "      <th>1</th>\n",
              "      <td>2</td>\n",
              "      <td>Consumer</td>\n",
              "      <td>6334</td>\n",
              "      <td>Standard Class</td>\n",
              "      <td>kariox</td>\n",
              "      <td>headset</td>\n",
              "      <td>5</td>\n",
              "      <td>Central</td>\n",
              "      <td>Westland</td>\n",
              "      <td>Michigan</td>\n",
              "      <td>48185</td>\n",
              "      <td>01-01-2018</td>\n",
              "      <td>01-01-2018</td>\n",
              "      <td>29.700</td>\n",
              "      <td>0.0</td>\n",
              "      <td>13.3650</td>\n",
              "    </tr>\n",
              "    <tr>\n",
              "      <th>2</th>\n",
              "      <td>3</td>\n",
              "      <td>Consumer</td>\n",
              "      <td>6333</td>\n",
              "      <td>Standard Class</td>\n",
              "      <td>qexty</td>\n",
              "      <td>shorts</td>\n",
              "      <td>3</td>\n",
              "      <td>Central</td>\n",
              "      <td>Westland</td>\n",
              "      <td>Michigan</td>\n",
              "      <td>48185</td>\n",
              "      <td>01-01-2018</td>\n",
              "      <td>01-01-2018</td>\n",
              "      <td>14.730</td>\n",
              "      <td>0.0</td>\n",
              "      <td>4.8609</td>\n",
              "    </tr>\n",
              "    <tr>\n",
              "      <th>3</th>\n",
              "      <td>4</td>\n",
              "      <td>Consumer</td>\n",
              "      <td>6332</td>\n",
              "      <td>Standard Class</td>\n",
              "      <td>kariox</td>\n",
              "      <td>television</td>\n",
              "      <td>3</td>\n",
              "      <td>Central</td>\n",
              "      <td>Westland</td>\n",
              "      <td>Michigan</td>\n",
              "      <td>48185</td>\n",
              "      <td>01-01-2018</td>\n",
              "      <td>01-01-2018</td>\n",
              "      <td>43.920</td>\n",
              "      <td>0.0</td>\n",
              "      <td>12.7368</td>\n",
              "    </tr>\n",
              "    <tr>\n",
              "      <th>4</th>\n",
              "      <td>5</td>\n",
              "      <td>Consumer</td>\n",
              "      <td>6331</td>\n",
              "      <td>Standard Class</td>\n",
              "      <td>kariox</td>\n",
              "      <td>laptop</td>\n",
              "      <td>2</td>\n",
              "      <td>Central</td>\n",
              "      <td>Westland</td>\n",
              "      <td>Michigan</td>\n",
              "      <td>48185</td>\n",
              "      <td>01-01-2018</td>\n",
              "      <td>01-01-2018</td>\n",
              "      <td>66.580</td>\n",
              "      <td>0.0</td>\n",
              "      <td>15.9792</td>\n",
              "    </tr>\n",
              "    <tr>\n",
              "      <th>...</th>\n",
              "      <td>...</td>\n",
              "      <td>...</td>\n",
              "      <td>...</td>\n",
              "      <td>...</td>\n",
              "      <td>...</td>\n",
              "      <td>...</td>\n",
              "      <td>...</td>\n",
              "      <td>...</td>\n",
              "      <td>...</td>\n",
              "      <td>...</td>\n",
              "      <td>...</td>\n",
              "      <td>...</td>\n",
              "      <td>...</td>\n",
              "      <td>...</td>\n",
              "      <td>...</td>\n",
              "      <td>...</td>\n",
              "    </tr>\n",
              "    <tr>\n",
              "      <th>6695</th>\n",
              "      <td>6696</td>\n",
              "      <td>Consumer</td>\n",
              "      <td>9389</td>\n",
              "      <td>Standard Class</td>\n",
              "      <td>kariox</td>\n",
              "      <td>battery</td>\n",
              "      <td>3</td>\n",
              "      <td>East</td>\n",
              "      <td>Burlington</td>\n",
              "      <td>Vermont</td>\n",
              "      <td>5408</td>\n",
              "      <td>01-01-2021</td>\n",
              "      <td>01-01-2021</td>\n",
              "      <td>542.940</td>\n",
              "      <td>0.0</td>\n",
              "      <td>152.0232</td>\n",
              "    </tr>\n",
              "    <tr>\n",
              "      <th>6696</th>\n",
              "      <td>6697</td>\n",
              "      <td>Corporate</td>\n",
              "      <td>9597</td>\n",
              "      <td>Standard Class</td>\n",
              "      <td>kariox</td>\n",
              "      <td>headset</td>\n",
              "      <td>2</td>\n",
              "      <td>West</td>\n",
              "      <td>San Jose</td>\n",
              "      <td>California</td>\n",
              "      <td>95123</td>\n",
              "      <td>01-01-2021</td>\n",
              "      <td>01-01-2021</td>\n",
              "      <td>276.784</td>\n",
              "      <td>0.2</td>\n",
              "      <td>89.9548</td>\n",
              "    </tr>\n",
              "    <tr>\n",
              "      <th>6697</th>\n",
              "      <td>6698</td>\n",
              "      <td>Consumer</td>\n",
              "      <td>9390</td>\n",
              "      <td>Standard Class</td>\n",
              "      <td>kariox</td>\n",
              "      <td>watch</td>\n",
              "      <td>1</td>\n",
              "      <td>East</td>\n",
              "      <td>Burlington</td>\n",
              "      <td>Vermont</td>\n",
              "      <td>5408</td>\n",
              "      <td>01-01-2021</td>\n",
              "      <td>01-01-2021</td>\n",
              "      <td>2.040</td>\n",
              "      <td>0.0</td>\n",
              "      <td>0.9588</td>\n",
              "    </tr>\n",
              "    <tr>\n",
              "      <th>6698</th>\n",
              "      <td>6699</td>\n",
              "      <td>Corporate</td>\n",
              "      <td>440</td>\n",
              "      <td>Second Class</td>\n",
              "      <td>qexty</td>\n",
              "      <td>tshirts</td>\n",
              "      <td>3</td>\n",
              "      <td>East</td>\n",
              "      <td>New York City</td>\n",
              "      <td>New York</td>\n",
              "      <td>10024</td>\n",
              "      <td>01-01-2021</td>\n",
              "      <td>01-01-2021</td>\n",
              "      <td>207.846</td>\n",
              "      <td>0.1</td>\n",
              "      <td>2.3094</td>\n",
              "    </tr>\n",
              "    <tr>\n",
              "      <th>6699</th>\n",
              "      <td>6700</td>\n",
              "      <td>Consumer</td>\n",
              "      <td>1659</td>\n",
              "      <td>Standard Class</td>\n",
              "      <td>fynota</td>\n",
              "      <td>colddrinks</td>\n",
              "      <td>3</td>\n",
              "      <td>West</td>\n",
              "      <td>Los Angeles</td>\n",
              "      <td>California</td>\n",
              "      <td>90045</td>\n",
              "      <td>01-01-2021</td>\n",
              "      <td>01-01-2021</td>\n",
              "      <td>160.776</td>\n",
              "      <td>0.2</td>\n",
              "      <td>10.0485</td>\n",
              "    </tr>\n",
              "  </tbody>\n",
              "</table>\n",
              "<p>6700 rows × 16 columns</p>\n",
              "</div>"
            ],
            "text/plain": [
              "        id    segment   RID  ...    price discount    profit\n",
              "0        1   Consumer  7981  ...   16.448      0.2    5.5512\n",
              "1        2   Consumer  6334  ...   29.700      0.0   13.3650\n",
              "2        3   Consumer  6333  ...   14.730      0.0    4.8609\n",
              "3        4   Consumer  6332  ...   43.920      0.0   12.7368\n",
              "4        5   Consumer  6331  ...   66.580      0.0   15.9792\n",
              "...    ...        ...   ...  ...      ...      ...       ...\n",
              "6695  6696   Consumer  9389  ...  542.940      0.0  152.0232\n",
              "6696  6697  Corporate  9597  ...  276.784      0.2   89.9548\n",
              "6697  6698   Consumer  9390  ...    2.040      0.0    0.9588\n",
              "6698  6699  Corporate   440  ...  207.846      0.1    2.3094\n",
              "6699  6700   Consumer  1659  ...  160.776      0.2   10.0485\n",
              "\n",
              "[6700 rows x 16 columns]"
            ]
          },
          "metadata": {
            "tags": []
          },
          "execution_count": 1183
        }
      ]
    },
    {
      "cell_type": "markdown",
      "metadata": {
        "id": "APVufZWYxEok"
      },
      "source": [
        "# **Removing outliers**"
      ]
    },
    {
      "cell_type": "code",
      "metadata": {
        "id": "egoK-Gh3xEol"
      },
      "source": [
        "# remove outliers no of items which are greater than 10\n",
        "#df1 = df[df['no of items'] < 10]\n",
        "df1 = df"
      ],
      "execution_count": 1184,
      "outputs": []
    },
    {
      "cell_type": "code",
      "metadata": {
        "id": "oX3oivfJxEol"
      },
      "source": [
        "# remove profit which is less than -4000\n",
        "df1 = df1[df1['profit']>-4000]"
      ],
      "execution_count": 1185,
      "outputs": []
    },
    {
      "cell_type": "code",
      "metadata": {
        "id": "qIBdIUjhxEol"
      },
      "source": [
        "# remove price which are greater then 10000\n",
        "df1 = df1[df1['price']<10000]"
      ],
      "execution_count": 1186,
      "outputs": []
    },
    {
      "cell_type": "code",
      "metadata": {
        "colab": {
          "base_uri": "https://localhost:8080/",
          "height": 284
        },
        "id": "vJ-1kRkXxEoq",
        "outputId": "7b4c0d12-800c-453b-ab1a-a778cf0ef92b"
      },
      "source": [
        "df1.describe()"
      ],
      "execution_count": 1187,
      "outputs": [
        {
          "output_type": "execute_result",
          "data": {
            "text/html": [
              "<div>\n",
              "<style scoped>\n",
              "    .dataframe tbody tr th:only-of-type {\n",
              "        vertical-align: middle;\n",
              "    }\n",
              "\n",
              "    .dataframe tbody tr th {\n",
              "        vertical-align: top;\n",
              "    }\n",
              "\n",
              "    .dataframe thead th {\n",
              "        text-align: right;\n",
              "    }\n",
              "</style>\n",
              "<table border=\"1\" class=\"dataframe\">\n",
              "  <thead>\n",
              "    <tr style=\"text-align: right;\">\n",
              "      <th></th>\n",
              "      <th>id</th>\n",
              "      <th>RID</th>\n",
              "      <th>no of items</th>\n",
              "      <th>address code</th>\n",
              "      <th>price</th>\n",
              "      <th>discount</th>\n",
              "      <th>profit</th>\n",
              "    </tr>\n",
              "  </thead>\n",
              "  <tbody>\n",
              "    <tr>\n",
              "      <th>count</th>\n",
              "      <td>6697.000000</td>\n",
              "      <td>6697.000000</td>\n",
              "      <td>6697.000000</td>\n",
              "      <td>6697.000000</td>\n",
              "      <td>6697.000000</td>\n",
              "      <td>6697.000000</td>\n",
              "      <td>6697.000000</td>\n",
              "    </tr>\n",
              "    <tr>\n",
              "      <th>mean</th>\n",
              "      <td>3350.188144</td>\n",
              "      <td>4954.018217</td>\n",
              "      <td>3.797820</td>\n",
              "      <td>54725.181425</td>\n",
              "      <td>227.863854</td>\n",
              "      <td>0.155767</td>\n",
              "      <td>29.135746</td>\n",
              "    </tr>\n",
              "    <tr>\n",
              "      <th>std</th>\n",
              "      <td>1933.765264</td>\n",
              "      <td>2921.536490</td>\n",
              "      <td>2.225566</td>\n",
              "      <td>32098.010326</td>\n",
              "      <td>537.949828</td>\n",
              "      <td>0.205809</td>\n",
              "      <td>188.994933</td>\n",
              "    </tr>\n",
              "    <tr>\n",
              "      <th>min</th>\n",
              "      <td>1.000000</td>\n",
              "      <td>1.000000</td>\n",
              "      <td>1.000000</td>\n",
              "      <td>1040.000000</td>\n",
              "      <td>0.836000</td>\n",
              "      <td>0.000000</td>\n",
              "      <td>-3701.892800</td>\n",
              "    </tr>\n",
              "    <tr>\n",
              "      <th>25%</th>\n",
              "      <td>1676.000000</td>\n",
              "      <td>2389.000000</td>\n",
              "      <td>2.000000</td>\n",
              "      <td>22204.000000</td>\n",
              "      <td>17.340000</td>\n",
              "      <td>0.000000</td>\n",
              "      <td>1.724800</td>\n",
              "    </tr>\n",
              "    <tr>\n",
              "      <th>50%</th>\n",
              "      <td>3350.000000</td>\n",
              "      <td>4941.000000</td>\n",
              "      <td>3.000000</td>\n",
              "      <td>55113.000000</td>\n",
              "      <td>54.920000</td>\n",
              "      <td>0.200000</td>\n",
              "      <td>8.804400</td>\n",
              "    </tr>\n",
              "    <tr>\n",
              "      <th>75%</th>\n",
              "      <td>5024.000000</td>\n",
              "      <td>7507.000000</td>\n",
              "      <td>5.000000</td>\n",
              "      <td>90004.000000</td>\n",
              "      <td>212.640000</td>\n",
              "      <td>0.200000</td>\n",
              "      <td>30.023400</td>\n",
              "    </tr>\n",
              "    <tr>\n",
              "      <th>max</th>\n",
              "      <td>6700.000000</td>\n",
              "      <td>9990.000000</td>\n",
              "      <td>14.000000</td>\n",
              "      <td>99301.000000</td>\n",
              "      <td>9892.740000</td>\n",
              "      <td>0.800000</td>\n",
              "      <td>4946.370000</td>\n",
              "    </tr>\n",
              "  </tbody>\n",
              "</table>\n",
              "</div>"
            ],
            "text/plain": [
              "                id          RID  ...     discount       profit\n",
              "count  6697.000000  6697.000000  ...  6697.000000  6697.000000\n",
              "mean   3350.188144  4954.018217  ...     0.155767    29.135746\n",
              "std    1933.765264  2921.536490  ...     0.205809   188.994933\n",
              "min       1.000000     1.000000  ...     0.000000 -3701.892800\n",
              "25%    1676.000000  2389.000000  ...     0.000000     1.724800\n",
              "50%    3350.000000  4941.000000  ...     0.200000     8.804400\n",
              "75%    5024.000000  7507.000000  ...     0.200000    30.023400\n",
              "max    6700.000000  9990.000000  ...     0.800000  4946.370000\n",
              "\n",
              "[8 rows x 7 columns]"
            ]
          },
          "metadata": {
            "tags": []
          },
          "execution_count": 1187
        }
      ]
    },
    {
      "cell_type": "markdown",
      "metadata": {
        "id": "EN7Vl2qdwtMu"
      },
      "source": [
        "# **Making new Features**"
      ]
    },
    {
      "cell_type": "code",
      "metadata": {
        "colab": {
          "base_uri": "https://localhost:8080/",
          "height": 570
        },
        "id": "CAhxMbixwtM8",
        "outputId": "5ae84893-33c3-497f-ce04-a844caca5fbe"
      },
      "source": [
        "df1"
      ],
      "execution_count": 1188,
      "outputs": [
        {
          "output_type": "execute_result",
          "data": {
            "text/html": [
              "<div>\n",
              "<style scoped>\n",
              "    .dataframe tbody tr th:only-of-type {\n",
              "        vertical-align: middle;\n",
              "    }\n",
              "\n",
              "    .dataframe tbody tr th {\n",
              "        vertical-align: top;\n",
              "    }\n",
              "\n",
              "    .dataframe thead th {\n",
              "        text-align: right;\n",
              "    }\n",
              "</style>\n",
              "<table border=\"1\" class=\"dataframe\">\n",
              "  <thead>\n",
              "    <tr style=\"text-align: right;\">\n",
              "      <th></th>\n",
              "      <th>id</th>\n",
              "      <th>segment</th>\n",
              "      <th>RID</th>\n",
              "      <th>delivery type</th>\n",
              "      <th>class</th>\n",
              "      <th>sub-class</th>\n",
              "      <th>no of items</th>\n",
              "      <th>location</th>\n",
              "      <th>departure city</th>\n",
              "      <th>departure state</th>\n",
              "      <th>address code</th>\n",
              "      <th>placement date</th>\n",
              "      <th>delivery date</th>\n",
              "      <th>price</th>\n",
              "      <th>discount</th>\n",
              "      <th>profit</th>\n",
              "    </tr>\n",
              "  </thead>\n",
              "  <tbody>\n",
              "    <tr>\n",
              "      <th>0</th>\n",
              "      <td>1</td>\n",
              "      <td>Consumer</td>\n",
              "      <td>7981</td>\n",
              "      <td>Standard Class</td>\n",
              "      <td>kariox</td>\n",
              "      <td>phone</td>\n",
              "      <td>2</td>\n",
              "      <td>Central</td>\n",
              "      <td>Houston</td>\n",
              "      <td>Texas</td>\n",
              "      <td>77095</td>\n",
              "      <td>01-01-2018</td>\n",
              "      <td>01-01-2018</td>\n",
              "      <td>16.448</td>\n",
              "      <td>0.2</td>\n",
              "      <td>5.5512</td>\n",
              "    </tr>\n",
              "    <tr>\n",
              "      <th>1</th>\n",
              "      <td>2</td>\n",
              "      <td>Consumer</td>\n",
              "      <td>6334</td>\n",
              "      <td>Standard Class</td>\n",
              "      <td>kariox</td>\n",
              "      <td>headset</td>\n",
              "      <td>5</td>\n",
              "      <td>Central</td>\n",
              "      <td>Westland</td>\n",
              "      <td>Michigan</td>\n",
              "      <td>48185</td>\n",
              "      <td>01-01-2018</td>\n",
              "      <td>01-01-2018</td>\n",
              "      <td>29.700</td>\n",
              "      <td>0.0</td>\n",
              "      <td>13.3650</td>\n",
              "    </tr>\n",
              "    <tr>\n",
              "      <th>2</th>\n",
              "      <td>3</td>\n",
              "      <td>Consumer</td>\n",
              "      <td>6333</td>\n",
              "      <td>Standard Class</td>\n",
              "      <td>qexty</td>\n",
              "      <td>shorts</td>\n",
              "      <td>3</td>\n",
              "      <td>Central</td>\n",
              "      <td>Westland</td>\n",
              "      <td>Michigan</td>\n",
              "      <td>48185</td>\n",
              "      <td>01-01-2018</td>\n",
              "      <td>01-01-2018</td>\n",
              "      <td>14.730</td>\n",
              "      <td>0.0</td>\n",
              "      <td>4.8609</td>\n",
              "    </tr>\n",
              "    <tr>\n",
              "      <th>3</th>\n",
              "      <td>4</td>\n",
              "      <td>Consumer</td>\n",
              "      <td>6332</td>\n",
              "      <td>Standard Class</td>\n",
              "      <td>kariox</td>\n",
              "      <td>television</td>\n",
              "      <td>3</td>\n",
              "      <td>Central</td>\n",
              "      <td>Westland</td>\n",
              "      <td>Michigan</td>\n",
              "      <td>48185</td>\n",
              "      <td>01-01-2018</td>\n",
              "      <td>01-01-2018</td>\n",
              "      <td>43.920</td>\n",
              "      <td>0.0</td>\n",
              "      <td>12.7368</td>\n",
              "    </tr>\n",
              "    <tr>\n",
              "      <th>4</th>\n",
              "      <td>5</td>\n",
              "      <td>Consumer</td>\n",
              "      <td>6331</td>\n",
              "      <td>Standard Class</td>\n",
              "      <td>kariox</td>\n",
              "      <td>laptop</td>\n",
              "      <td>2</td>\n",
              "      <td>Central</td>\n",
              "      <td>Westland</td>\n",
              "      <td>Michigan</td>\n",
              "      <td>48185</td>\n",
              "      <td>01-01-2018</td>\n",
              "      <td>01-01-2018</td>\n",
              "      <td>66.580</td>\n",
              "      <td>0.0</td>\n",
              "      <td>15.9792</td>\n",
              "    </tr>\n",
              "    <tr>\n",
              "      <th>...</th>\n",
              "      <td>...</td>\n",
              "      <td>...</td>\n",
              "      <td>...</td>\n",
              "      <td>...</td>\n",
              "      <td>...</td>\n",
              "      <td>...</td>\n",
              "      <td>...</td>\n",
              "      <td>...</td>\n",
              "      <td>...</td>\n",
              "      <td>...</td>\n",
              "      <td>...</td>\n",
              "      <td>...</td>\n",
              "      <td>...</td>\n",
              "      <td>...</td>\n",
              "      <td>...</td>\n",
              "      <td>...</td>\n",
              "    </tr>\n",
              "    <tr>\n",
              "      <th>6695</th>\n",
              "      <td>6696</td>\n",
              "      <td>Consumer</td>\n",
              "      <td>9389</td>\n",
              "      <td>Standard Class</td>\n",
              "      <td>kariox</td>\n",
              "      <td>battery</td>\n",
              "      <td>3</td>\n",
              "      <td>East</td>\n",
              "      <td>Burlington</td>\n",
              "      <td>Vermont</td>\n",
              "      <td>5408</td>\n",
              "      <td>01-01-2021</td>\n",
              "      <td>01-01-2021</td>\n",
              "      <td>542.940</td>\n",
              "      <td>0.0</td>\n",
              "      <td>152.0232</td>\n",
              "    </tr>\n",
              "    <tr>\n",
              "      <th>6696</th>\n",
              "      <td>6697</td>\n",
              "      <td>Corporate</td>\n",
              "      <td>9597</td>\n",
              "      <td>Standard Class</td>\n",
              "      <td>kariox</td>\n",
              "      <td>headset</td>\n",
              "      <td>2</td>\n",
              "      <td>West</td>\n",
              "      <td>San Jose</td>\n",
              "      <td>California</td>\n",
              "      <td>95123</td>\n",
              "      <td>01-01-2021</td>\n",
              "      <td>01-01-2021</td>\n",
              "      <td>276.784</td>\n",
              "      <td>0.2</td>\n",
              "      <td>89.9548</td>\n",
              "    </tr>\n",
              "    <tr>\n",
              "      <th>6697</th>\n",
              "      <td>6698</td>\n",
              "      <td>Consumer</td>\n",
              "      <td>9390</td>\n",
              "      <td>Standard Class</td>\n",
              "      <td>kariox</td>\n",
              "      <td>watch</td>\n",
              "      <td>1</td>\n",
              "      <td>East</td>\n",
              "      <td>Burlington</td>\n",
              "      <td>Vermont</td>\n",
              "      <td>5408</td>\n",
              "      <td>01-01-2021</td>\n",
              "      <td>01-01-2021</td>\n",
              "      <td>2.040</td>\n",
              "      <td>0.0</td>\n",
              "      <td>0.9588</td>\n",
              "    </tr>\n",
              "    <tr>\n",
              "      <th>6698</th>\n",
              "      <td>6699</td>\n",
              "      <td>Corporate</td>\n",
              "      <td>440</td>\n",
              "      <td>Second Class</td>\n",
              "      <td>qexty</td>\n",
              "      <td>tshirts</td>\n",
              "      <td>3</td>\n",
              "      <td>East</td>\n",
              "      <td>New York City</td>\n",
              "      <td>New York</td>\n",
              "      <td>10024</td>\n",
              "      <td>01-01-2021</td>\n",
              "      <td>01-01-2021</td>\n",
              "      <td>207.846</td>\n",
              "      <td>0.1</td>\n",
              "      <td>2.3094</td>\n",
              "    </tr>\n",
              "    <tr>\n",
              "      <th>6699</th>\n",
              "      <td>6700</td>\n",
              "      <td>Consumer</td>\n",
              "      <td>1659</td>\n",
              "      <td>Standard Class</td>\n",
              "      <td>fynota</td>\n",
              "      <td>colddrinks</td>\n",
              "      <td>3</td>\n",
              "      <td>West</td>\n",
              "      <td>Los Angeles</td>\n",
              "      <td>California</td>\n",
              "      <td>90045</td>\n",
              "      <td>01-01-2021</td>\n",
              "      <td>01-01-2021</td>\n",
              "      <td>160.776</td>\n",
              "      <td>0.2</td>\n",
              "      <td>10.0485</td>\n",
              "    </tr>\n",
              "  </tbody>\n",
              "</table>\n",
              "<p>6697 rows × 16 columns</p>\n",
              "</div>"
            ],
            "text/plain": [
              "        id    segment   RID  ...    price discount    profit\n",
              "0        1   Consumer  7981  ...   16.448      0.2    5.5512\n",
              "1        2   Consumer  6334  ...   29.700      0.0   13.3650\n",
              "2        3   Consumer  6333  ...   14.730      0.0    4.8609\n",
              "3        4   Consumer  6332  ...   43.920      0.0   12.7368\n",
              "4        5   Consumer  6331  ...   66.580      0.0   15.9792\n",
              "...    ...        ...   ...  ...      ...      ...       ...\n",
              "6695  6696   Consumer  9389  ...  542.940      0.0  152.0232\n",
              "6696  6697  Corporate  9597  ...  276.784      0.2   89.9548\n",
              "6697  6698   Consumer  9390  ...    2.040      0.0    0.9588\n",
              "6698  6699  Corporate   440  ...  207.846      0.1    2.3094\n",
              "6699  6700   Consumer  1659  ...  160.776      0.2   10.0485\n",
              "\n",
              "[6697 rows x 16 columns]"
            ]
          },
          "metadata": {
            "tags": []
          },
          "execution_count": 1188
        }
      ]
    },
    {
      "cell_type": "code",
      "metadata": {
        "colab": {
          "base_uri": "https://localhost:8080/",
          "height": 284
        },
        "id": "9JiTT6dmwtM9",
        "outputId": "03d73a63-55b4-47e6-86aa-19daf1eb871a"
      },
      "source": [
        "df1.describe()"
      ],
      "execution_count": 1189,
      "outputs": [
        {
          "output_type": "execute_result",
          "data": {
            "text/html": [
              "<div>\n",
              "<style scoped>\n",
              "    .dataframe tbody tr th:only-of-type {\n",
              "        vertical-align: middle;\n",
              "    }\n",
              "\n",
              "    .dataframe tbody tr th {\n",
              "        vertical-align: top;\n",
              "    }\n",
              "\n",
              "    .dataframe thead th {\n",
              "        text-align: right;\n",
              "    }\n",
              "</style>\n",
              "<table border=\"1\" class=\"dataframe\">\n",
              "  <thead>\n",
              "    <tr style=\"text-align: right;\">\n",
              "      <th></th>\n",
              "      <th>id</th>\n",
              "      <th>RID</th>\n",
              "      <th>no of items</th>\n",
              "      <th>address code</th>\n",
              "      <th>price</th>\n",
              "      <th>discount</th>\n",
              "      <th>profit</th>\n",
              "    </tr>\n",
              "  </thead>\n",
              "  <tbody>\n",
              "    <tr>\n",
              "      <th>count</th>\n",
              "      <td>6697.000000</td>\n",
              "      <td>6697.000000</td>\n",
              "      <td>6697.000000</td>\n",
              "      <td>6697.000000</td>\n",
              "      <td>6697.000000</td>\n",
              "      <td>6697.000000</td>\n",
              "      <td>6697.000000</td>\n",
              "    </tr>\n",
              "    <tr>\n",
              "      <th>mean</th>\n",
              "      <td>3350.188144</td>\n",
              "      <td>4954.018217</td>\n",
              "      <td>3.797820</td>\n",
              "      <td>54725.181425</td>\n",
              "      <td>227.863854</td>\n",
              "      <td>0.155767</td>\n",
              "      <td>29.135746</td>\n",
              "    </tr>\n",
              "    <tr>\n",
              "      <th>std</th>\n",
              "      <td>1933.765264</td>\n",
              "      <td>2921.536490</td>\n",
              "      <td>2.225566</td>\n",
              "      <td>32098.010326</td>\n",
              "      <td>537.949828</td>\n",
              "      <td>0.205809</td>\n",
              "      <td>188.994933</td>\n",
              "    </tr>\n",
              "    <tr>\n",
              "      <th>min</th>\n",
              "      <td>1.000000</td>\n",
              "      <td>1.000000</td>\n",
              "      <td>1.000000</td>\n",
              "      <td>1040.000000</td>\n",
              "      <td>0.836000</td>\n",
              "      <td>0.000000</td>\n",
              "      <td>-3701.892800</td>\n",
              "    </tr>\n",
              "    <tr>\n",
              "      <th>25%</th>\n",
              "      <td>1676.000000</td>\n",
              "      <td>2389.000000</td>\n",
              "      <td>2.000000</td>\n",
              "      <td>22204.000000</td>\n",
              "      <td>17.340000</td>\n",
              "      <td>0.000000</td>\n",
              "      <td>1.724800</td>\n",
              "    </tr>\n",
              "    <tr>\n",
              "      <th>50%</th>\n",
              "      <td>3350.000000</td>\n",
              "      <td>4941.000000</td>\n",
              "      <td>3.000000</td>\n",
              "      <td>55113.000000</td>\n",
              "      <td>54.920000</td>\n",
              "      <td>0.200000</td>\n",
              "      <td>8.804400</td>\n",
              "    </tr>\n",
              "    <tr>\n",
              "      <th>75%</th>\n",
              "      <td>5024.000000</td>\n",
              "      <td>7507.000000</td>\n",
              "      <td>5.000000</td>\n",
              "      <td>90004.000000</td>\n",
              "      <td>212.640000</td>\n",
              "      <td>0.200000</td>\n",
              "      <td>30.023400</td>\n",
              "    </tr>\n",
              "    <tr>\n",
              "      <th>max</th>\n",
              "      <td>6700.000000</td>\n",
              "      <td>9990.000000</td>\n",
              "      <td>14.000000</td>\n",
              "      <td>99301.000000</td>\n",
              "      <td>9892.740000</td>\n",
              "      <td>0.800000</td>\n",
              "      <td>4946.370000</td>\n",
              "    </tr>\n",
              "  </tbody>\n",
              "</table>\n",
              "</div>"
            ],
            "text/plain": [
              "                id          RID  ...     discount       profit\n",
              "count  6697.000000  6697.000000  ...  6697.000000  6697.000000\n",
              "mean   3350.188144  4954.018217  ...     0.155767    29.135746\n",
              "std    1933.765264  2921.536490  ...     0.205809   188.994933\n",
              "min       1.000000     1.000000  ...     0.000000 -3701.892800\n",
              "25%    1676.000000  2389.000000  ...     0.000000     1.724800\n",
              "50%    3350.000000  4941.000000  ...     0.200000     8.804400\n",
              "75%    5024.000000  7507.000000  ...     0.200000    30.023400\n",
              "max    6700.000000  9990.000000  ...     0.800000  4946.370000\n",
              "\n",
              "[8 rows x 7 columns]"
            ]
          },
          "metadata": {
            "tags": []
          },
          "execution_count": 1189
        }
      ]
    },
    {
      "cell_type": "code",
      "metadata": {
        "id": "mlYoYzLswtM-"
      },
      "source": [
        "df1['price_discount'] = df1['discount'] * df1['price'] # Multiplying price and discount"
      ],
      "execution_count": 1190,
      "outputs": []
    },
    {
      "cell_type": "code",
      "metadata": {
        "id": "HVjAMiXccJVE"
      },
      "source": [
        "df1 = df1[df1['price_discount'] < 3000] # remove price_discount greater than 3000"
      ],
      "execution_count": 1191,
      "outputs": []
    },
    {
      "cell_type": "code",
      "metadata": {
        "id": "QcnvJx1xwtM-"
      },
      "source": [
        "df1['price_discount_items'] = df1['price_discount'] / df1['no of items'] # Multiplying price, discount and items"
      ],
      "execution_count": null,
      "outputs": []
    },
    {
      "cell_type": "code",
      "metadata": {
        "id": "ydV7wZAtc1Zy"
      },
      "source": [
        "df1 = df1[df1['price_discount_items'] < 600]  # Remove price_discount_items greater than 600"
      ],
      "execution_count": 1193,
      "outputs": []
    },
    {
      "cell_type": "code",
      "metadata": {
        "id": "pNbUcl3swtM-"
      },
      "source": [
        "df1['selling_price'] = df1['price'] - 2 * df1['price_discount'] # Price - Price x Discount"
      ],
      "execution_count": 1194,
      "outputs": []
    },
    {
      "cell_type": "code",
      "metadata": {
        "id": "kaNPI-wWkcO_"
      },
      "source": [
        "df1['selling_items'] = (df1['price'] - 2 * df1['price_discount'])/df1['no of items'] # Price - Price x Discount / iitems"
      ],
      "execution_count": 1195,
      "outputs": []
    },
    {
      "cell_type": "code",
      "metadata": {
        "id": "m7TNM1gKwtM-"
      },
      "source": [
        "df1['price_items'] = df1['price'] / df1['no of items'] # Dividing price and no of items"
      ],
      "execution_count": 1196,
      "outputs": []
    },
    {
      "cell_type": "code",
      "metadata": {
        "id": "OME9qpuxc_LF"
      },
      "source": [
        "df1 = df1[df1['price_items']<1900] # Remove price_items greater than 1900"
      ],
      "execution_count": 1197,
      "outputs": []
    },
    {
      "cell_type": "code",
      "metadata": {
        "id": "TfqZNOoVwtM_"
      },
      "source": [
        "df1['profit_items'] = df1['profit'] / df1['no of items'] # Dividing profit by items"
      ],
      "execution_count": 1198,
      "outputs": []
    },
    {
      "cell_type": "code",
      "metadata": {
        "id": "oa4YVdtYZm60"
      },
      "source": [
        "df1['no of items'] = 1 / df1['no of items'] # Reciprocal of no of items"
      ],
      "execution_count": 1199,
      "outputs": []
    },
    {
      "cell_type": "markdown",
      "metadata": {
        "id": "Xug2xEQVIJoG"
      },
      "source": [
        "**Creating x and y DataFrames**"
      ]
    },
    {
      "cell_type": "code",
      "metadata": {
        "id": "Ke2ZFpljwtNA"
      },
      "source": [
        "x = df1[['price','discount','price_discount','selling_price']]  \n",
        "y = df1[['profit']]"
      ],
      "execution_count": 1220,
      "outputs": []
    },
    {
      "cell_type": "code",
      "metadata": {
        "id": "u3agt_cEwtNB"
      },
      "source": [
        "b = df1[['sub-class']]"
      ],
      "execution_count": 1221,
      "outputs": []
    },
    {
      "cell_type": "code",
      "metadata": {
        "id": "LGanZVRjwtNB"
      },
      "source": [
        "a = pd.get_dummies(b) # One Hot Encoding of subclass"
      ],
      "execution_count": 1222,
      "outputs": []
    },
    {
      "cell_type": "code",
      "metadata": {
        "id": "2Ehc0qkHwtNC"
      },
      "source": [
        "x = pd.concat([x,a], axis = 1) # Concatenate x and a"
      ],
      "execution_count": 1223,
      "outputs": []
    },
    {
      "cell_type": "code",
      "metadata": {
        "id": "F4GZIInxREIg"
      },
      "source": [
        "# Drop Columns as they give zero contribution\n",
        "x = x.drop(x.columns[[7, 12, 15, 17, 18]],axis =1)"
      ],
      "execution_count": 1224,
      "outputs": []
    },
    {
      "cell_type": "code",
      "metadata": {
        "colab": {
          "base_uri": "https://localhost:8080/",
          "height": 438
        },
        "id": "J6Jabm3mR3TN",
        "outputId": "2007c9d9-b0b8-48cd-a2fa-5df73fc8b031"
      },
      "source": [
        "x"
      ],
      "execution_count": 1225,
      "outputs": [
        {
          "output_type": "execute_result",
          "data": {
            "text/html": [
              "<div>\n",
              "<style scoped>\n",
              "    .dataframe tbody tr th:only-of-type {\n",
              "        vertical-align: middle;\n",
              "    }\n",
              "\n",
              "    .dataframe tbody tr th {\n",
              "        vertical-align: top;\n",
              "    }\n",
              "\n",
              "    .dataframe thead th {\n",
              "        text-align: right;\n",
              "    }\n",
              "</style>\n",
              "<table border=\"1\" class=\"dataframe\">\n",
              "  <thead>\n",
              "    <tr style=\"text-align: right;\">\n",
              "      <th></th>\n",
              "      <th>price</th>\n",
              "      <th>discount</th>\n",
              "      <th>price_discount</th>\n",
              "      <th>selling_price</th>\n",
              "      <th>sub-class_battery</th>\n",
              "      <th>sub-class_charger</th>\n",
              "      <th>sub-class_chocolates</th>\n",
              "      <th>sub-class_fastfood</th>\n",
              "      <th>sub-class_headset</th>\n",
              "      <th>sub-class_hoodies</th>\n",
              "      <th>sub-class_laptop</th>\n",
              "      <th>sub-class_pants</th>\n",
              "      <th>sub-class_phone</th>\n",
              "      <th>sub-class_sweets</th>\n",
              "      <th>sub-class_tshirts</th>\n",
              "      <th>sub-class_watch</th>\n",
              "    </tr>\n",
              "  </thead>\n",
              "  <tbody>\n",
              "    <tr>\n",
              "      <th>0</th>\n",
              "      <td>16.448</td>\n",
              "      <td>0.2</td>\n",
              "      <td>3.2896</td>\n",
              "      <td>9.8688</td>\n",
              "      <td>0</td>\n",
              "      <td>0</td>\n",
              "      <td>0</td>\n",
              "      <td>0</td>\n",
              "      <td>0</td>\n",
              "      <td>0</td>\n",
              "      <td>0</td>\n",
              "      <td>0</td>\n",
              "      <td>1</td>\n",
              "      <td>0</td>\n",
              "      <td>0</td>\n",
              "      <td>0</td>\n",
              "    </tr>\n",
              "    <tr>\n",
              "      <th>1</th>\n",
              "      <td>29.700</td>\n",
              "      <td>0.0</td>\n",
              "      <td>0.0000</td>\n",
              "      <td>29.7000</td>\n",
              "      <td>0</td>\n",
              "      <td>0</td>\n",
              "      <td>0</td>\n",
              "      <td>0</td>\n",
              "      <td>1</td>\n",
              "      <td>0</td>\n",
              "      <td>0</td>\n",
              "      <td>0</td>\n",
              "      <td>0</td>\n",
              "      <td>0</td>\n",
              "      <td>0</td>\n",
              "      <td>0</td>\n",
              "    </tr>\n",
              "    <tr>\n",
              "      <th>2</th>\n",
              "      <td>14.730</td>\n",
              "      <td>0.0</td>\n",
              "      <td>0.0000</td>\n",
              "      <td>14.7300</td>\n",
              "      <td>0</td>\n",
              "      <td>0</td>\n",
              "      <td>0</td>\n",
              "      <td>0</td>\n",
              "      <td>0</td>\n",
              "      <td>0</td>\n",
              "      <td>0</td>\n",
              "      <td>0</td>\n",
              "      <td>0</td>\n",
              "      <td>0</td>\n",
              "      <td>0</td>\n",
              "      <td>0</td>\n",
              "    </tr>\n",
              "    <tr>\n",
              "      <th>3</th>\n",
              "      <td>43.920</td>\n",
              "      <td>0.0</td>\n",
              "      <td>0.0000</td>\n",
              "      <td>43.9200</td>\n",
              "      <td>0</td>\n",
              "      <td>0</td>\n",
              "      <td>0</td>\n",
              "      <td>0</td>\n",
              "      <td>0</td>\n",
              "      <td>0</td>\n",
              "      <td>0</td>\n",
              "      <td>0</td>\n",
              "      <td>0</td>\n",
              "      <td>0</td>\n",
              "      <td>0</td>\n",
              "      <td>0</td>\n",
              "    </tr>\n",
              "    <tr>\n",
              "      <th>4</th>\n",
              "      <td>66.580</td>\n",
              "      <td>0.0</td>\n",
              "      <td>0.0000</td>\n",
              "      <td>66.5800</td>\n",
              "      <td>0</td>\n",
              "      <td>0</td>\n",
              "      <td>0</td>\n",
              "      <td>0</td>\n",
              "      <td>0</td>\n",
              "      <td>0</td>\n",
              "      <td>1</td>\n",
              "      <td>0</td>\n",
              "      <td>0</td>\n",
              "      <td>0</td>\n",
              "      <td>0</td>\n",
              "      <td>0</td>\n",
              "    </tr>\n",
              "    <tr>\n",
              "      <th>...</th>\n",
              "      <td>...</td>\n",
              "      <td>...</td>\n",
              "      <td>...</td>\n",
              "      <td>...</td>\n",
              "      <td>...</td>\n",
              "      <td>...</td>\n",
              "      <td>...</td>\n",
              "      <td>...</td>\n",
              "      <td>...</td>\n",
              "      <td>...</td>\n",
              "      <td>...</td>\n",
              "      <td>...</td>\n",
              "      <td>...</td>\n",
              "      <td>...</td>\n",
              "      <td>...</td>\n",
              "      <td>...</td>\n",
              "    </tr>\n",
              "    <tr>\n",
              "      <th>6695</th>\n",
              "      <td>542.940</td>\n",
              "      <td>0.0</td>\n",
              "      <td>0.0000</td>\n",
              "      <td>542.9400</td>\n",
              "      <td>1</td>\n",
              "      <td>0</td>\n",
              "      <td>0</td>\n",
              "      <td>0</td>\n",
              "      <td>0</td>\n",
              "      <td>0</td>\n",
              "      <td>0</td>\n",
              "      <td>0</td>\n",
              "      <td>0</td>\n",
              "      <td>0</td>\n",
              "      <td>0</td>\n",
              "      <td>0</td>\n",
              "    </tr>\n",
              "    <tr>\n",
              "      <th>6696</th>\n",
              "      <td>276.784</td>\n",
              "      <td>0.2</td>\n",
              "      <td>55.3568</td>\n",
              "      <td>166.0704</td>\n",
              "      <td>0</td>\n",
              "      <td>0</td>\n",
              "      <td>0</td>\n",
              "      <td>0</td>\n",
              "      <td>1</td>\n",
              "      <td>0</td>\n",
              "      <td>0</td>\n",
              "      <td>0</td>\n",
              "      <td>0</td>\n",
              "      <td>0</td>\n",
              "      <td>0</td>\n",
              "      <td>0</td>\n",
              "    </tr>\n",
              "    <tr>\n",
              "      <th>6697</th>\n",
              "      <td>2.040</td>\n",
              "      <td>0.0</td>\n",
              "      <td>0.0000</td>\n",
              "      <td>2.0400</td>\n",
              "      <td>0</td>\n",
              "      <td>0</td>\n",
              "      <td>0</td>\n",
              "      <td>0</td>\n",
              "      <td>0</td>\n",
              "      <td>0</td>\n",
              "      <td>0</td>\n",
              "      <td>0</td>\n",
              "      <td>0</td>\n",
              "      <td>0</td>\n",
              "      <td>0</td>\n",
              "      <td>1</td>\n",
              "    </tr>\n",
              "    <tr>\n",
              "      <th>6698</th>\n",
              "      <td>207.846</td>\n",
              "      <td>0.1</td>\n",
              "      <td>20.7846</td>\n",
              "      <td>166.2768</td>\n",
              "      <td>0</td>\n",
              "      <td>0</td>\n",
              "      <td>0</td>\n",
              "      <td>0</td>\n",
              "      <td>0</td>\n",
              "      <td>0</td>\n",
              "      <td>0</td>\n",
              "      <td>0</td>\n",
              "      <td>0</td>\n",
              "      <td>0</td>\n",
              "      <td>1</td>\n",
              "      <td>0</td>\n",
              "    </tr>\n",
              "    <tr>\n",
              "      <th>6699</th>\n",
              "      <td>160.776</td>\n",
              "      <td>0.2</td>\n",
              "      <td>32.1552</td>\n",
              "      <td>96.4656</td>\n",
              "      <td>0</td>\n",
              "      <td>0</td>\n",
              "      <td>0</td>\n",
              "      <td>0</td>\n",
              "      <td>0</td>\n",
              "      <td>0</td>\n",
              "      <td>0</td>\n",
              "      <td>0</td>\n",
              "      <td>0</td>\n",
              "      <td>0</td>\n",
              "      <td>0</td>\n",
              "      <td>0</td>\n",
              "    </tr>\n",
              "  </tbody>\n",
              "</table>\n",
              "<p>6693 rows × 16 columns</p>\n",
              "</div>"
            ],
            "text/plain": [
              "        price  discount  ...  sub-class_tshirts  sub-class_watch\n",
              "0      16.448       0.2  ...                  0                0\n",
              "1      29.700       0.0  ...                  0                0\n",
              "2      14.730       0.0  ...                  0                0\n",
              "3      43.920       0.0  ...                  0                0\n",
              "4      66.580       0.0  ...                  0                0\n",
              "...       ...       ...  ...                ...              ...\n",
              "6695  542.940       0.0  ...                  0                0\n",
              "6696  276.784       0.2  ...                  0                0\n",
              "6697    2.040       0.0  ...                  0                1\n",
              "6698  207.846       0.1  ...                  1                0\n",
              "6699  160.776       0.2  ...                  0                0\n",
              "\n",
              "[6693 rows x 16 columns]"
            ]
          },
          "metadata": {
            "tags": []
          },
          "execution_count": 1225
        }
      ]
    },
    {
      "cell_type": "code",
      "metadata": {
        "id": "PszOk07dwtNC"
      },
      "source": [
        "# Converting to numpy Arrays\n",
        "x = x.to_numpy()\n",
        "y = y.to_numpy()"
      ],
      "execution_count": 1226,
      "outputs": []
    },
    {
      "cell_type": "code",
      "metadata": {
        "colab": {
          "base_uri": "https://localhost:8080/"
        },
        "id": "0PukKW7qwtNC",
        "outputId": "5931d541-2056-48eb-982e-db0d40507a13"
      },
      "source": [
        "x.shape"
      ],
      "execution_count": 1227,
      "outputs": [
        {
          "output_type": "execute_result",
          "data": {
            "text/plain": [
              "(6693, 16)"
            ]
          },
          "metadata": {
            "tags": []
          },
          "execution_count": 1227
        }
      ]
    },
    {
      "cell_type": "code",
      "metadata": {
        "colab": {
          "base_uri": "https://localhost:8080/"
        },
        "id": "kqxTiNEblIZ0",
        "outputId": "5e49b64b-7681-4cce-b6c5-ca6a3ae71d89"
      },
      "source": [
        "y.shape"
      ],
      "execution_count": 1228,
      "outputs": [
        {
          "output_type": "execute_result",
          "data": {
            "text/plain": [
              "(6693, 1)"
            ]
          },
          "metadata": {
            "tags": []
          },
          "execution_count": 1228
        }
      ]
    },
    {
      "cell_type": "code",
      "metadata": {
        "id": "IA5BWfCCwtND"
      },
      "source": [
        "x[:,0], fitted_lambda = stats.boxcox(x[:,0]) # Price box cox transform\n",
        "x[:,3], fitted_lambda = stats.yeojohnson(x[:,3]) # Profit_price yeo johnson transform\n",
        "#x[:,4], fitted_lambda = stats.boxcox(x[:,4]) # Price / items "
      ],
      "execution_count": 1229,
      "outputs": []
    },
    {
      "cell_type": "markdown",
      "metadata": {
        "id": "BcTnUoHc20ky"
      },
      "source": [
        "# **Model Prediction**"
      ]
    },
    {
      "cell_type": "code",
      "metadata": {
        "id": "-Lg5aqAgtLwZ"
      },
      "source": [
        "from sklearn.model_selection import train_test_split\n",
        "from xgboost import XGBRegressor\n",
        "from sklearn.metrics import mean_squared_error, mean_absolute_error\n",
        "from sklearn.metrics import r2_score"
      ],
      "execution_count": 1230,
      "outputs": []
    },
    {
      "cell_type": "code",
      "metadata": {
        "id": "t-TwPIsb6Wxc"
      },
      "source": [
        "# Standardize the x and y \n",
        "sc_x = StandardScaler()\n",
        "x = sc_x.fit_transform(x)\n",
        "sc_y = StandardScaler()\n",
        "y = sc_y.fit_transform(y)"
      ],
      "execution_count": 1231,
      "outputs": []
    },
    {
      "cell_type": "code",
      "metadata": {
        "id": "CiGOjA4j46gs"
      },
      "source": [
        "# Splitting training and validation set\n",
        "x_train, x_val = x[700:], x[:700]\n",
        "y_train, y_val = y[700:], y[:700]"
      ],
      "execution_count": 1232,
      "outputs": []
    },
    {
      "cell_type": "code",
      "metadata": {
        "colab": {
          "base_uri": "https://localhost:8080/"
        },
        "id": "UAfSpzm5Iu02",
        "outputId": "3cac5796-3e64-49bf-d9c9-59d66c52cab4"
      },
      "source": [
        "y_val.shape"
      ],
      "execution_count": 1233,
      "outputs": [
        {
          "output_type": "execute_result",
          "data": {
            "text/plain": [
              "(700, 1)"
            ]
          },
          "metadata": {
            "tags": []
          },
          "execution_count": 1233
        }
      ]
    },
    {
      "cell_type": "code",
      "metadata": {
        "colab": {
          "base_uri": "https://localhost:8080/"
        },
        "id": "g5cqsih-kn_k",
        "outputId": "34c784d0-a8a6-4e11-9225-7219f3e2e240"
      },
      "source": [
        "x_train.shape"
      ],
      "execution_count": 1234,
      "outputs": [
        {
          "output_type": "execute_result",
          "data": {
            "text/plain": [
              "(5993, 16)"
            ]
          },
          "metadata": {
            "tags": []
          },
          "execution_count": 1234
        }
      ]
    },
    {
      "cell_type": "code",
      "metadata": {
        "colab": {
          "base_uri": "https://localhost:8080/"
        },
        "id": "J5Iw-zIytLsv",
        "outputId": "16772c12-7ce8-4ab3-d24e-a04765eba7c5"
      },
      "source": [
        "# Model Training\n",
        "clf = XGBRegressor(learning_rate=0.1,n_estimators=400,objective =\"reg:squarederror\",gamma=0.05,reg_lambda=0.49)\n",
        "clf.fit(x_train,y_train)"
      ],
      "execution_count": 1235,
      "outputs": [
        {
          "output_type": "execute_result",
          "data": {
            "text/plain": [
              "XGBRegressor(base_score=0.5, booster='gbtree', colsample_bylevel=1,\n",
              "             colsample_bynode=1, colsample_bytree=1, gamma=0.05,\n",
              "             importance_type='gain', learning_rate=0.1, max_delta_step=0,\n",
              "             max_depth=3, min_child_weight=1, missing=None, n_estimators=400,\n",
              "             n_jobs=1, nthread=None, objective='reg:squarederror',\n",
              "             random_state=0, reg_alpha=0, reg_lambda=0.49, scale_pos_weight=1,\n",
              "             seed=None, silent=None, subsample=1, verbosity=1)"
            ]
          },
          "metadata": {
            "tags": []
          },
          "execution_count": 1235
        }
      ]
    },
    {
      "cell_type": "code",
      "metadata": {
        "colab": {
          "base_uri": "https://localhost:8080/"
        },
        "id": "p9BMQjOPtLqK",
        "outputId": "d7cb4c00-c9fe-499b-bffe-6b7e2106806e"
      },
      "source": [
        "# Error Score\n",
        "y_pred_xg = clf.predict(x_val)\n",
        "mse = mean_absolute_error(y_val, y_pred_xg)\n",
        "print(\"MAE:\", mse)\n",
        "r_score_xg = r2_score(y_val, y_pred_xg)\n",
        "print(r_score_xg)"
      ],
      "execution_count": 1236,
      "outputs": [
        {
          "output_type": "stream",
          "text": [
            "MAE: 0.08468512367406661\n",
            "0.8795908666805237\n"
          ],
          "name": "stdout"
        }
      ]
    },
    {
      "cell_type": "markdown",
      "metadata": {
        "id": "3GOPpEGvOiwS"
      },
      "source": [
        "# **Importance of Features**"
      ]
    },
    {
      "cell_type": "code",
      "metadata": {
        "id": "lCai7e86O7xE"
      },
      "source": [
        "feature_list = ['price','discount','price_discount','selling_price'] # list of columns that you want importance of"
      ],
      "execution_count": 1237,
      "outputs": []
    },
    {
      "cell_type": "code",
      "metadata": {
        "colab": {
          "base_uri": "https://localhost:8080/"
        },
        "id": "WOzDwcZdQYX8",
        "outputId": "1087ee4f-c604-457e-9684-2c3dfc6435b4"
      },
      "source": [
        "clf.feature_importances_"
      ],
      "execution_count": 1238,
      "outputs": [
        {
          "output_type": "execute_result",
          "data": {
            "text/plain": [
              "array([0.0492455 , 0.0680581 , 0.08528708, 0.31143162, 0.00377755,\n",
              "       0.18200152, 0.00409444, 0.07378667, 0.12997521, 0.02347747,\n",
              "       0.0204468 , 0.00896268, 0.00365688, 0.02798402, 0.0062311 ,\n",
              "       0.00158327], dtype=float32)"
            ]
          },
          "metadata": {
            "tags": []
          },
          "execution_count": 1238
        }
      ]
    },
    {
      "cell_type": "code",
      "metadata": {
        "colab": {
          "base_uri": "https://localhost:8080/"
        },
        "id": "GmpJ2xFkOgdG",
        "outputId": "68be5218-c774-4587-e32b-776eacce5f5c"
      },
      "source": [
        "# Get numerical feature importances\n",
        "importances = list(clf.feature_importances_)\n",
        "# List of tuples with variable and importance\n",
        "feature_importances = [(feature, round(importance, 2)) for feature, importance in zip(feature_list, importances)]\n",
        "# Sort the feature importances by most important first\n",
        "feature_importances = sorted(feature_importances, key = lambda x: x[1], reverse = True)\n",
        "# Print out the feature and importances \n",
        "[print('Variable: {:96} Importance: {}'.format(*pair)) for pair in feature_importances]"
      ],
      "execution_count": 1239,
      "outputs": [
        {
          "output_type": "stream",
          "text": [
            "Variable: selling_price                                                                                    Importance: 0.3100000023841858\n",
            "Variable: price_discount                                                                                   Importance: 0.09000000357627869\n",
            "Variable: discount                                                                                         Importance: 0.07000000029802322\n",
            "Variable: price                                                                                            Importance: 0.05000000074505806\n",
            "Variable: sub-class                                                                                        Importance: 0.0\n"
          ],
          "name": "stdout"
        },
        {
          "output_type": "execute_result",
          "data": {
            "text/plain": [
              "[None, None, None, None, None]"
            ]
          },
          "metadata": {
            "tags": []
          },
          "execution_count": 1239
        }
      ]
    },
    {
      "cell_type": "markdown",
      "metadata": {
        "id": "gWKuEOiGy6V_"
      },
      "source": [
        "# **Cross Validation**"
      ]
    },
    {
      "cell_type": "code",
      "metadata": {
        "id": "NTJVYWjB50GJ"
      },
      "source": [
        "# Custom R square function\n",
        "def r2(y_v, y_p):\n",
        "  r_score_xg = r2_score(y_v, y_p)\n",
        "  return r_score_xg"
      ],
      "execution_count": 1240,
      "outputs": []
    },
    {
      "cell_type": "code",
      "metadata": {
        "id": "nXFOrvduy-D-"
      },
      "source": [
        "from sklearn.model_selection import KFold\n",
        "from sklearn.model_selection import cross_validate\n",
        "from sklearn.model_selection import cross_val_score\n",
        "from sklearn.metrics import roc_auc_score, make_scorer"
      ],
      "execution_count": 1241,
      "outputs": []
    },
    {
      "cell_type": "code",
      "metadata": {
        "colab": {
          "base_uri": "https://localhost:8080/"
        },
        "id": "4PvMn7hGy_TK",
        "outputId": "0c2ea67f-5388-4a2b-e35a-9850bf2bcf23"
      },
      "source": [
        "# K fold Cross Validation\n",
        "scores = cross_validate(clf, x, y, scoring=make_scorer(r2, greater_is_better=True), cv=10, n_jobs=-1)"
      ],
      "execution_count": 1242,
      "outputs": [
        {
          "output_type": "stream",
          "text": [
            "/usr/local/lib/python3.7/dist-packages/sklearn/model_selection/_split.py:296: FutureWarning: Setting a random_state has no effect since shuffle is False. This will raise an error in 0.24. You should leave random_state to its default (None), or set shuffle=True.\n",
            "  FutureWarning\n"
          ],
          "name": "stderr"
        }
      ]
    },
    {
      "cell_type": "code",
      "metadata": {
        "id": "hZQnOjV8y-3x"
      },
      "source": [
        "s = pd.DataFrame(scores)"
      ],
      "execution_count": 1243,
      "outputs": []
    },
    {
      "cell_type": "code",
      "metadata": {
        "colab": {
          "base_uri": "https://localhost:8080/",
          "height": 343
        },
        "id": "zyRmeTcyAkJe",
        "outputId": "d41a8147-b158-4601-f347-a1b40713d8d3"
      },
      "source": [
        "s"
      ],
      "execution_count": 1244,
      "outputs": [
        {
          "output_type": "execute_result",
          "data": {
            "text/html": [
              "<div>\n",
              "<style scoped>\n",
              "    .dataframe tbody tr th:only-of-type {\n",
              "        vertical-align: middle;\n",
              "    }\n",
              "\n",
              "    .dataframe tbody tr th {\n",
              "        vertical-align: top;\n",
              "    }\n",
              "\n",
              "    .dataframe thead th {\n",
              "        text-align: right;\n",
              "    }\n",
              "</style>\n",
              "<table border=\"1\" class=\"dataframe\">\n",
              "  <thead>\n",
              "    <tr style=\"text-align: right;\">\n",
              "      <th></th>\n",
              "      <th>fit_time</th>\n",
              "      <th>score_time</th>\n",
              "      <th>test_score</th>\n",
              "    </tr>\n",
              "  </thead>\n",
              "  <tbody>\n",
              "    <tr>\n",
              "      <th>0</th>\n",
              "      <td>2.343928</td>\n",
              "      <td>0.006897</td>\n",
              "      <td>0.889448</td>\n",
              "    </tr>\n",
              "    <tr>\n",
              "      <th>1</th>\n",
              "      <td>2.404886</td>\n",
              "      <td>0.007812</td>\n",
              "      <td>0.886242</td>\n",
              "    </tr>\n",
              "    <tr>\n",
              "      <th>2</th>\n",
              "      <td>2.336041</td>\n",
              "      <td>0.007385</td>\n",
              "      <td>0.915898</td>\n",
              "    </tr>\n",
              "    <tr>\n",
              "      <th>3</th>\n",
              "      <td>2.374682</td>\n",
              "      <td>0.007484</td>\n",
              "      <td>0.932901</td>\n",
              "    </tr>\n",
              "    <tr>\n",
              "      <th>4</th>\n",
              "      <td>2.353662</td>\n",
              "      <td>0.007708</td>\n",
              "      <td>0.912503</td>\n",
              "    </tr>\n",
              "    <tr>\n",
              "      <th>5</th>\n",
              "      <td>2.367198</td>\n",
              "      <td>0.007962</td>\n",
              "      <td>0.902577</td>\n",
              "    </tr>\n",
              "    <tr>\n",
              "      <th>6</th>\n",
              "      <td>2.341207</td>\n",
              "      <td>0.007833</td>\n",
              "      <td>0.865359</td>\n",
              "    </tr>\n",
              "    <tr>\n",
              "      <th>7</th>\n",
              "      <td>2.359004</td>\n",
              "      <td>0.007725</td>\n",
              "      <td>0.846791</td>\n",
              "    </tr>\n",
              "    <tr>\n",
              "      <th>8</th>\n",
              "      <td>2.429994</td>\n",
              "      <td>0.007942</td>\n",
              "      <td>0.957824</td>\n",
              "    </tr>\n",
              "    <tr>\n",
              "      <th>9</th>\n",
              "      <td>2.374097</td>\n",
              "      <td>0.005494</td>\n",
              "      <td>0.969737</td>\n",
              "    </tr>\n",
              "  </tbody>\n",
              "</table>\n",
              "</div>"
            ],
            "text/plain": [
              "   fit_time  score_time  test_score\n",
              "0  2.343928    0.006897    0.889448\n",
              "1  2.404886    0.007812    0.886242\n",
              "2  2.336041    0.007385    0.915898\n",
              "3  2.374682    0.007484    0.932901\n",
              "4  2.353662    0.007708    0.912503\n",
              "5  2.367198    0.007962    0.902577\n",
              "6  2.341207    0.007833    0.865359\n",
              "7  2.359004    0.007725    0.846791\n",
              "8  2.429994    0.007942    0.957824\n",
              "9  2.374097    0.005494    0.969737"
            ]
          },
          "metadata": {
            "tags": []
          },
          "execution_count": 1244
        }
      ]
    },
    {
      "cell_type": "code",
      "metadata": {
        "colab": {
          "base_uri": "https://localhost:8080/"
        },
        "id": "1UwAxy0Wy-yO",
        "outputId": "4fab2452-e83c-4582-c2c7-12e2cb9531d7"
      },
      "source": [
        "# R sqaure Value on Overall Dataset\n",
        "s['test_score'].sum()/10"
      ],
      "execution_count": 1245,
      "outputs": [
        {
          "output_type": "execute_result",
          "data": {
            "text/plain": [
              "0.9079279310505368"
            ]
          },
          "metadata": {
            "tags": []
          },
          "execution_count": 1245
        }
      ]
    },
    {
      "cell_type": "markdown",
      "metadata": {
        "id": "8ZPzTS7vovvJ"
      },
      "source": [
        "# **TEST XGBOOST ON TEST Dataset**"
      ]
    },
    {
      "cell_type": "code",
      "metadata": {
        "colab": {
          "base_uri": "https://localhost:8080/",
          "height": 606
        },
        "id": "vdCslaIxEAP4",
        "outputId": "19f0508e-11e1-486d-c24b-2e054f31d96c"
      },
      "source": [
        "df_test"
      ],
      "execution_count": 964,
      "outputs": [
        {
          "output_type": "execute_result",
          "data": {
            "text/html": [
              "<div>\n",
              "<style scoped>\n",
              "    .dataframe tbody tr th:only-of-type {\n",
              "        vertical-align: middle;\n",
              "    }\n",
              "\n",
              "    .dataframe tbody tr th {\n",
              "        vertical-align: top;\n",
              "    }\n",
              "\n",
              "    .dataframe thead th {\n",
              "        text-align: right;\n",
              "    }\n",
              "</style>\n",
              "<table border=\"1\" class=\"dataframe\">\n",
              "  <thead>\n",
              "    <tr style=\"text-align: right;\">\n",
              "      <th></th>\n",
              "      <th>id</th>\n",
              "      <th>segment</th>\n",
              "      <th>RID</th>\n",
              "      <th>delivery type</th>\n",
              "      <th>class</th>\n",
              "      <th>sub-class</th>\n",
              "      <th>no of items</th>\n",
              "      <th>location</th>\n",
              "      <th>departure city</th>\n",
              "      <th>departure state</th>\n",
              "      <th>address code</th>\n",
              "      <th>placement date</th>\n",
              "      <th>delivery date</th>\n",
              "      <th>price</th>\n",
              "      <th>discount</th>\n",
              "      <th>price_discount</th>\n",
              "      <th>price_discount_items</th>\n",
              "      <th>selling_price</th>\n",
              "      <th>price_items</th>\n",
              "    </tr>\n",
              "  </thead>\n",
              "  <tbody>\n",
              "    <tr>\n",
              "      <th>0</th>\n",
              "      <td>6701</td>\n",
              "      <td>Consumer</td>\n",
              "      <td>2408</td>\n",
              "      <td>Standard Class</td>\n",
              "      <td>kariox</td>\n",
              "      <td>television</td>\n",
              "      <td>0.200000</td>\n",
              "      <td>West</td>\n",
              "      <td>San Francisco</td>\n",
              "      <td>California</td>\n",
              "      <td>94122</td>\n",
              "      <td>01-01-2021</td>\n",
              "      <td>01-01-2021</td>\n",
              "      <td>24.200</td>\n",
              "      <td>0.0</td>\n",
              "      <td>0.0000</td>\n",
              "      <td>0.0000</td>\n",
              "      <td>24.2000</td>\n",
              "      <td>4.840</td>\n",
              "    </tr>\n",
              "    <tr>\n",
              "      <th>1</th>\n",
              "      <td>6702</td>\n",
              "      <td>Consumer</td>\n",
              "      <td>2409</td>\n",
              "      <td>Standard Class</td>\n",
              "      <td>fynota</td>\n",
              "      <td>colddrinks</td>\n",
              "      <td>0.333333</td>\n",
              "      <td>West</td>\n",
              "      <td>San Francisco</td>\n",
              "      <td>California</td>\n",
              "      <td>94122</td>\n",
              "      <td>01-01-2021</td>\n",
              "      <td>01-01-2021</td>\n",
              "      <td>359.976</td>\n",
              "      <td>0.2</td>\n",
              "      <td>71.9952</td>\n",
              "      <td>23.9984</td>\n",
              "      <td>215.9856</td>\n",
              "      <td>119.992</td>\n",
              "    </tr>\n",
              "    <tr>\n",
              "      <th>2</th>\n",
              "      <td>6703</td>\n",
              "      <td>Consumer</td>\n",
              "      <td>5425</td>\n",
              "      <td>Standard Class</td>\n",
              "      <td>kariox</td>\n",
              "      <td>television</td>\n",
              "      <td>0.500000</td>\n",
              "      <td>East</td>\n",
              "      <td>Waterbury</td>\n",
              "      <td>Connecticut</td>\n",
              "      <td>6708</td>\n",
              "      <td>01-01-2021</td>\n",
              "      <td>01-01-2021</td>\n",
              "      <td>3.520</td>\n",
              "      <td>0.0</td>\n",
              "      <td>0.0000</td>\n",
              "      <td>0.0000</td>\n",
              "      <td>3.5200</td>\n",
              "      <td>1.760</td>\n",
              "    </tr>\n",
              "    <tr>\n",
              "      <th>3</th>\n",
              "      <td>6704</td>\n",
              "      <td>Consumer</td>\n",
              "      <td>7408</td>\n",
              "      <td>First Class</td>\n",
              "      <td>kariox</td>\n",
              "      <td>tablet</td>\n",
              "      <td>0.200000</td>\n",
              "      <td>Central</td>\n",
              "      <td>Chicago</td>\n",
              "      <td>Illinois</td>\n",
              "      <td>60653</td>\n",
              "      <td>01-01-2021</td>\n",
              "      <td>01-01-2021</td>\n",
              "      <td>11.520</td>\n",
              "      <td>0.2</td>\n",
              "      <td>2.3040</td>\n",
              "      <td>0.4608</td>\n",
              "      <td>6.9120</td>\n",
              "      <td>2.304</td>\n",
              "    </tr>\n",
              "    <tr>\n",
              "      <th>4</th>\n",
              "      <td>6705</td>\n",
              "      <td>Home Office</td>\n",
              "      <td>733</td>\n",
              "      <td>Standard Class</td>\n",
              "      <td>kariox</td>\n",
              "      <td>laptop</td>\n",
              "      <td>0.333333</td>\n",
              "      <td>West</td>\n",
              "      <td>Seattle</td>\n",
              "      <td>Washington</td>\n",
              "      <td>98115</td>\n",
              "      <td>01-01-2021</td>\n",
              "      <td>01-01-2021</td>\n",
              "      <td>242.940</td>\n",
              "      <td>0.0</td>\n",
              "      <td>0.0000</td>\n",
              "      <td>0.0000</td>\n",
              "      <td>242.9400</td>\n",
              "      <td>80.980</td>\n",
              "    </tr>\n",
              "    <tr>\n",
              "      <th>...</th>\n",
              "      <td>...</td>\n",
              "      <td>...</td>\n",
              "      <td>...</td>\n",
              "      <td>...</td>\n",
              "      <td>...</td>\n",
              "      <td>...</td>\n",
              "      <td>...</td>\n",
              "      <td>...</td>\n",
              "      <td>...</td>\n",
              "      <td>...</td>\n",
              "      <td>...</td>\n",
              "      <td>...</td>\n",
              "      <td>...</td>\n",
              "      <td>...</td>\n",
              "      <td>...</td>\n",
              "      <td>...</td>\n",
              "      <td>...</td>\n",
              "      <td>...</td>\n",
              "      <td>...</td>\n",
              "    </tr>\n",
              "    <tr>\n",
              "      <th>3289</th>\n",
              "      <td>9990</td>\n",
              "      <td>Consumer</td>\n",
              "      <td>1171</td>\n",
              "      <td>Second Class</td>\n",
              "      <td>kariox</td>\n",
              "      <td>laptop</td>\n",
              "      <td>0.250000</td>\n",
              "      <td>East</td>\n",
              "      <td>New York City</td>\n",
              "      <td>New York</td>\n",
              "      <td>10035</td>\n",
              "      <td>01-12-2021</td>\n",
              "      <td>01-12-2021</td>\n",
              "      <td>31.920</td>\n",
              "      <td>0.0</td>\n",
              "      <td>0.0000</td>\n",
              "      <td>0.0000</td>\n",
              "      <td>31.9200</td>\n",
              "      <td>7.980</td>\n",
              "    </tr>\n",
              "    <tr>\n",
              "      <th>3290</th>\n",
              "      <td>9991</td>\n",
              "      <td>Consumer</td>\n",
              "      <td>1170</td>\n",
              "      <td>Second Class</td>\n",
              "      <td>kariox</td>\n",
              "      <td>phone</td>\n",
              "      <td>0.333333</td>\n",
              "      <td>East</td>\n",
              "      <td>New York City</td>\n",
              "      <td>New York</td>\n",
              "      <td>10035</td>\n",
              "      <td>01-12-2021</td>\n",
              "      <td>01-12-2021</td>\n",
              "      <td>19.440</td>\n",
              "      <td>0.0</td>\n",
              "      <td>0.0000</td>\n",
              "      <td>0.0000</td>\n",
              "      <td>19.4400</td>\n",
              "      <td>6.480</td>\n",
              "    </tr>\n",
              "    <tr>\n",
              "      <th>3291</th>\n",
              "      <td>9992</td>\n",
              "      <td>Consumer</td>\n",
              "      <td>1169</td>\n",
              "      <td>Second Class</td>\n",
              "      <td>kariox</td>\n",
              "      <td>laptop</td>\n",
              "      <td>0.333333</td>\n",
              "      <td>East</td>\n",
              "      <td>New York City</td>\n",
              "      <td>New York</td>\n",
              "      <td>10035</td>\n",
              "      <td>01-12-2021</td>\n",
              "      <td>01-12-2021</td>\n",
              "      <td>272.940</td>\n",
              "      <td>0.0</td>\n",
              "      <td>0.0000</td>\n",
              "      <td>0.0000</td>\n",
              "      <td>272.9400</td>\n",
              "      <td>90.980</td>\n",
              "    </tr>\n",
              "    <tr>\n",
              "      <th>3292</th>\n",
              "      <td>9993</td>\n",
              "      <td>Consumer</td>\n",
              "      <td>414</td>\n",
              "      <td>Standard Class</td>\n",
              "      <td>qexty</td>\n",
              "      <td>tshirts</td>\n",
              "      <td>0.500000</td>\n",
              "      <td>West</td>\n",
              "      <td>San Francisco</td>\n",
              "      <td>California</td>\n",
              "      <td>94110</td>\n",
              "      <td>01-12-2021</td>\n",
              "      <td>01-12-2021</td>\n",
              "      <td>113.568</td>\n",
              "      <td>0.2</td>\n",
              "      <td>22.7136</td>\n",
              "      <td>11.3568</td>\n",
              "      <td>68.1408</td>\n",
              "      <td>56.784</td>\n",
              "    </tr>\n",
              "    <tr>\n",
              "      <th>3293</th>\n",
              "      <td>9994</td>\n",
              "      <td>Consumer</td>\n",
              "      <td>5092</td>\n",
              "      <td>Standard Class</td>\n",
              "      <td>kariox</td>\n",
              "      <td>lighting</td>\n",
              "      <td>0.333333</td>\n",
              "      <td>West</td>\n",
              "      <td>Loveland</td>\n",
              "      <td>Colorado</td>\n",
              "      <td>80538</td>\n",
              "      <td>01-12-2021</td>\n",
              "      <td>01-01-2022</td>\n",
              "      <td>3.024</td>\n",
              "      <td>0.2</td>\n",
              "      <td>0.6048</td>\n",
              "      <td>0.2016</td>\n",
              "      <td>1.8144</td>\n",
              "      <td>1.008</td>\n",
              "    </tr>\n",
              "  </tbody>\n",
              "</table>\n",
              "<p>3294 rows × 19 columns</p>\n",
              "</div>"
            ],
            "text/plain": [
              "        id      segment   RID  ... price_discount_items selling_price price_items\n",
              "0     6701     Consumer  2408  ...               0.0000       24.2000       4.840\n",
              "1     6702     Consumer  2409  ...              23.9984      215.9856     119.992\n",
              "2     6703     Consumer  5425  ...               0.0000        3.5200       1.760\n",
              "3     6704     Consumer  7408  ...               0.4608        6.9120       2.304\n",
              "4     6705  Home Office   733  ...               0.0000      242.9400      80.980\n",
              "...    ...          ...   ...  ...                  ...           ...         ...\n",
              "3289  9990     Consumer  1171  ...               0.0000       31.9200       7.980\n",
              "3290  9991     Consumer  1170  ...               0.0000       19.4400       6.480\n",
              "3291  9992     Consumer  1169  ...               0.0000      272.9400      90.980\n",
              "3292  9993     Consumer   414  ...              11.3568       68.1408      56.784\n",
              "3293  9994     Consumer  5092  ...               0.2016        1.8144       1.008\n",
              "\n",
              "[3294 rows x 19 columns]"
            ]
          },
          "metadata": {
            "tags": []
          },
          "execution_count": 964
        }
      ]
    },
    {
      "cell_type": "code",
      "metadata": {
        "id": "BIP2N6YBT5ft"
      },
      "source": [
        "df_test.to_csv(\"new_feature_test\")"
      ],
      "execution_count": 965,
      "outputs": []
    },
    {
      "cell_type": "markdown",
      "metadata": {
        "id": "AkiqTwenEXne"
      },
      "source": [
        "**Preparing Test Data**"
      ]
    },
    {
      "cell_type": "code",
      "metadata": {
        "id": "Tw6YRlPUkn-9"
      },
      "source": [
        "df_test['price_discount'] = df_test['discount'] * df_test['price'] # Multiplying price and discount"
      ],
      "execution_count": 927,
      "outputs": []
    },
    {
      "cell_type": "code",
      "metadata": {
        "id": "09qcCuyFkn_L"
      },
      "source": [
        "df_test['price_discount_items'] = df_test['price_discount'] / df_test['no of items'] # Multiplying price, discount and items"
      ],
      "execution_count": 928,
      "outputs": []
    },
    {
      "cell_type": "code",
      "metadata": {
        "id": "E1J-yW2tkn_M"
      },
      "source": [
        "df_test['selling_price'] = df_test['price'] - 2 * df_test['price_discount'] # Price - Price x Discount"
      ],
      "execution_count": 929,
      "outputs": []
    },
    {
      "cell_type": "code",
      "metadata": {
        "id": "qZBqcA1ekn_N"
      },
      "source": [
        "df_test['price_items'] = df_test['price'] / df_test['no of items'] # Dividing price and no of items"
      ],
      "execution_count": 930,
      "outputs": []
    },
    {
      "cell_type": "code",
      "metadata": {
        "id": "5cZLonK7kn_O"
      },
      "source": [
        "df_test['no of items'] = 1 / df_test['no of items'] # Reciprocal of no of items"
      ],
      "execution_count": 931,
      "outputs": []
    },
    {
      "cell_type": "markdown",
      "metadata": {
        "id": "M-zugGyuEcHB"
      },
      "source": [
        "**X_test for prediction**"
      ]
    },
    {
      "cell_type": "code",
      "metadata": {
        "id": "3mBoD_clkn_P"
      },
      "source": [
        "x_test = df_test[['price','discount','price_discount','selling_price']]"
      ],
      "execution_count": 998,
      "outputs": []
    },
    {
      "cell_type": "code",
      "metadata": {
        "id": "wj6iiEA8EMnV"
      },
      "source": [
        "a = pd.get_dummies(df_test[['sub-class']]) # One Hot Encoding"
      ],
      "execution_count": 999,
      "outputs": []
    },
    {
      "cell_type": "code",
      "metadata": {
        "id": "WYZa0X_dEVO-"
      },
      "source": [
        "x_test = pd.concat([x_test,a], axis = 1) # Concatenate x_test and a"
      ],
      "execution_count": 1001,
      "outputs": []
    },
    {
      "cell_type": "code",
      "metadata": {
        "id": "bK03aolfSW1_"
      },
      "source": [
        "x_test = x_test.drop(x_test.columns[[7, 12, 15, 17, 18]],axis =1) # drop columns to get best result"
      ],
      "execution_count": 1002,
      "outputs": []
    },
    {
      "cell_type": "code",
      "metadata": {
        "colab": {
          "base_uri": "https://localhost:8080/",
          "height": 438
        },
        "id": "ck0J59qnEb_d",
        "outputId": "2a9ed79a-ca37-40e3-e689-42d56884bb72"
      },
      "source": [
        "x_test"
      ],
      "execution_count": 1003,
      "outputs": [
        {
          "output_type": "execute_result",
          "data": {
            "text/html": [
              "<div>\n",
              "<style scoped>\n",
              "    .dataframe tbody tr th:only-of-type {\n",
              "        vertical-align: middle;\n",
              "    }\n",
              "\n",
              "    .dataframe tbody tr th {\n",
              "        vertical-align: top;\n",
              "    }\n",
              "\n",
              "    .dataframe thead th {\n",
              "        text-align: right;\n",
              "    }\n",
              "</style>\n",
              "<table border=\"1\" class=\"dataframe\">\n",
              "  <thead>\n",
              "    <tr style=\"text-align: right;\">\n",
              "      <th></th>\n",
              "      <th>price</th>\n",
              "      <th>discount</th>\n",
              "      <th>price_discount</th>\n",
              "      <th>selling_price</th>\n",
              "      <th>sub-class_battery</th>\n",
              "      <th>sub-class_charger</th>\n",
              "      <th>sub-class_chocolates</th>\n",
              "      <th>sub-class_fastfood</th>\n",
              "      <th>sub-class_headset</th>\n",
              "      <th>sub-class_hoodies</th>\n",
              "      <th>sub-class_laptop</th>\n",
              "      <th>sub-class_pants</th>\n",
              "      <th>sub-class_phone</th>\n",
              "      <th>sub-class_sweets</th>\n",
              "      <th>sub-class_tshirts</th>\n",
              "      <th>sub-class_watch</th>\n",
              "    </tr>\n",
              "  </thead>\n",
              "  <tbody>\n",
              "    <tr>\n",
              "      <th>0</th>\n",
              "      <td>24.200</td>\n",
              "      <td>0.0</td>\n",
              "      <td>0.0000</td>\n",
              "      <td>24.2000</td>\n",
              "      <td>0</td>\n",
              "      <td>0</td>\n",
              "      <td>0</td>\n",
              "      <td>0</td>\n",
              "      <td>0</td>\n",
              "      <td>0</td>\n",
              "      <td>0</td>\n",
              "      <td>0</td>\n",
              "      <td>0</td>\n",
              "      <td>0</td>\n",
              "      <td>0</td>\n",
              "      <td>0</td>\n",
              "    </tr>\n",
              "    <tr>\n",
              "      <th>1</th>\n",
              "      <td>359.976</td>\n",
              "      <td>0.2</td>\n",
              "      <td>71.9952</td>\n",
              "      <td>215.9856</td>\n",
              "      <td>0</td>\n",
              "      <td>0</td>\n",
              "      <td>0</td>\n",
              "      <td>0</td>\n",
              "      <td>0</td>\n",
              "      <td>0</td>\n",
              "      <td>0</td>\n",
              "      <td>0</td>\n",
              "      <td>0</td>\n",
              "      <td>0</td>\n",
              "      <td>0</td>\n",
              "      <td>0</td>\n",
              "    </tr>\n",
              "    <tr>\n",
              "      <th>2</th>\n",
              "      <td>3.520</td>\n",
              "      <td>0.0</td>\n",
              "      <td>0.0000</td>\n",
              "      <td>3.5200</td>\n",
              "      <td>0</td>\n",
              "      <td>0</td>\n",
              "      <td>0</td>\n",
              "      <td>0</td>\n",
              "      <td>0</td>\n",
              "      <td>0</td>\n",
              "      <td>0</td>\n",
              "      <td>0</td>\n",
              "      <td>0</td>\n",
              "      <td>0</td>\n",
              "      <td>0</td>\n",
              "      <td>0</td>\n",
              "    </tr>\n",
              "    <tr>\n",
              "      <th>3</th>\n",
              "      <td>11.520</td>\n",
              "      <td>0.2</td>\n",
              "      <td>2.3040</td>\n",
              "      <td>6.9120</td>\n",
              "      <td>0</td>\n",
              "      <td>0</td>\n",
              "      <td>0</td>\n",
              "      <td>0</td>\n",
              "      <td>0</td>\n",
              "      <td>0</td>\n",
              "      <td>0</td>\n",
              "      <td>0</td>\n",
              "      <td>0</td>\n",
              "      <td>0</td>\n",
              "      <td>0</td>\n",
              "      <td>0</td>\n",
              "    </tr>\n",
              "    <tr>\n",
              "      <th>4</th>\n",
              "      <td>242.940</td>\n",
              "      <td>0.0</td>\n",
              "      <td>0.0000</td>\n",
              "      <td>242.9400</td>\n",
              "      <td>0</td>\n",
              "      <td>0</td>\n",
              "      <td>0</td>\n",
              "      <td>0</td>\n",
              "      <td>0</td>\n",
              "      <td>0</td>\n",
              "      <td>1</td>\n",
              "      <td>0</td>\n",
              "      <td>0</td>\n",
              "      <td>0</td>\n",
              "      <td>0</td>\n",
              "      <td>0</td>\n",
              "    </tr>\n",
              "    <tr>\n",
              "      <th>...</th>\n",
              "      <td>...</td>\n",
              "      <td>...</td>\n",
              "      <td>...</td>\n",
              "      <td>...</td>\n",
              "      <td>...</td>\n",
              "      <td>...</td>\n",
              "      <td>...</td>\n",
              "      <td>...</td>\n",
              "      <td>...</td>\n",
              "      <td>...</td>\n",
              "      <td>...</td>\n",
              "      <td>...</td>\n",
              "      <td>...</td>\n",
              "      <td>...</td>\n",
              "      <td>...</td>\n",
              "      <td>...</td>\n",
              "    </tr>\n",
              "    <tr>\n",
              "      <th>3289</th>\n",
              "      <td>31.920</td>\n",
              "      <td>0.0</td>\n",
              "      <td>0.0000</td>\n",
              "      <td>31.9200</td>\n",
              "      <td>0</td>\n",
              "      <td>0</td>\n",
              "      <td>0</td>\n",
              "      <td>0</td>\n",
              "      <td>0</td>\n",
              "      <td>0</td>\n",
              "      <td>1</td>\n",
              "      <td>0</td>\n",
              "      <td>0</td>\n",
              "      <td>0</td>\n",
              "      <td>0</td>\n",
              "      <td>0</td>\n",
              "    </tr>\n",
              "    <tr>\n",
              "      <th>3290</th>\n",
              "      <td>19.440</td>\n",
              "      <td>0.0</td>\n",
              "      <td>0.0000</td>\n",
              "      <td>19.4400</td>\n",
              "      <td>0</td>\n",
              "      <td>0</td>\n",
              "      <td>0</td>\n",
              "      <td>0</td>\n",
              "      <td>0</td>\n",
              "      <td>0</td>\n",
              "      <td>0</td>\n",
              "      <td>0</td>\n",
              "      <td>1</td>\n",
              "      <td>0</td>\n",
              "      <td>0</td>\n",
              "      <td>0</td>\n",
              "    </tr>\n",
              "    <tr>\n",
              "      <th>3291</th>\n",
              "      <td>272.940</td>\n",
              "      <td>0.0</td>\n",
              "      <td>0.0000</td>\n",
              "      <td>272.9400</td>\n",
              "      <td>0</td>\n",
              "      <td>0</td>\n",
              "      <td>0</td>\n",
              "      <td>0</td>\n",
              "      <td>0</td>\n",
              "      <td>0</td>\n",
              "      <td>1</td>\n",
              "      <td>0</td>\n",
              "      <td>0</td>\n",
              "      <td>0</td>\n",
              "      <td>0</td>\n",
              "      <td>0</td>\n",
              "    </tr>\n",
              "    <tr>\n",
              "      <th>3292</th>\n",
              "      <td>113.568</td>\n",
              "      <td>0.2</td>\n",
              "      <td>22.7136</td>\n",
              "      <td>68.1408</td>\n",
              "      <td>0</td>\n",
              "      <td>0</td>\n",
              "      <td>0</td>\n",
              "      <td>0</td>\n",
              "      <td>0</td>\n",
              "      <td>0</td>\n",
              "      <td>0</td>\n",
              "      <td>0</td>\n",
              "      <td>0</td>\n",
              "      <td>0</td>\n",
              "      <td>1</td>\n",
              "      <td>0</td>\n",
              "    </tr>\n",
              "    <tr>\n",
              "      <th>3293</th>\n",
              "      <td>3.024</td>\n",
              "      <td>0.2</td>\n",
              "      <td>0.6048</td>\n",
              "      <td>1.8144</td>\n",
              "      <td>0</td>\n",
              "      <td>0</td>\n",
              "      <td>0</td>\n",
              "      <td>0</td>\n",
              "      <td>0</td>\n",
              "      <td>0</td>\n",
              "      <td>0</td>\n",
              "      <td>0</td>\n",
              "      <td>0</td>\n",
              "      <td>0</td>\n",
              "      <td>0</td>\n",
              "      <td>0</td>\n",
              "    </tr>\n",
              "  </tbody>\n",
              "</table>\n",
              "<p>3294 rows × 16 columns</p>\n",
              "</div>"
            ],
            "text/plain": [
              "        price  discount  ...  sub-class_tshirts  sub-class_watch\n",
              "0      24.200       0.0  ...                  0                0\n",
              "1     359.976       0.2  ...                  0                0\n",
              "2       3.520       0.0  ...                  0                0\n",
              "3      11.520       0.2  ...                  0                0\n",
              "4     242.940       0.0  ...                  0                0\n",
              "...       ...       ...  ...                ...              ...\n",
              "3289   31.920       0.0  ...                  0                0\n",
              "3290   19.440       0.0  ...                  0                0\n",
              "3291  272.940       0.0  ...                  0                0\n",
              "3292  113.568       0.2  ...                  1                0\n",
              "3293    3.024       0.2  ...                  0                0\n",
              "\n",
              "[3294 rows x 16 columns]"
            ]
          },
          "metadata": {
            "tags": []
          },
          "execution_count": 1003
        }
      ]
    },
    {
      "cell_type": "code",
      "metadata": {
        "id": "T9w8a-7Ho3wN"
      },
      "source": [
        "x_test = x_test.to_numpy()"
      ],
      "execution_count": 1004,
      "outputs": []
    },
    {
      "cell_type": "code",
      "metadata": {
        "id": "d-gaqfMWqe_B"
      },
      "source": [
        "x_test[:,0], l = stats.boxcox(x_test[:,0])\n",
        "x_test[:,3], l = stats.yeojohnson(x_test[:,3])"
      ],
      "execution_count": 1005,
      "outputs": []
    },
    {
      "cell_type": "code",
      "metadata": {
        "colab": {
          "base_uri": "https://localhost:8080/"
        },
        "id": "11VI5_abE6ur",
        "outputId": "c86aef84-b64e-41f5-a62f-48f350d678be"
      },
      "source": [
        "x_test"
      ],
      "execution_count": 1006,
      "outputs": [
        {
          "output_type": "execute_result",
          "data": {
            "text/plain": [
              "array([[ 2.95014223,  0.        ,  0.        , ...,  0.        ,\n",
              "         0.        ,  0.        ],\n",
              "       [ 5.11351358,  0.2       , 71.9952    , ...,  0.        ,\n",
              "         0.        ,  0.        ],\n",
              "       [ 1.2204582 ,  0.        ,  0.        , ...,  0.        ,\n",
              "         0.        ,  0.        ],\n",
              "       ...,\n",
              "       [ 4.90464316,  0.        ,  0.        , ...,  0.        ,\n",
              "         0.        ,  0.        ],\n",
              "       [ 4.22393662,  0.2       , 22.7136    , ...,  0.        ,\n",
              "         1.        ,  0.        ],\n",
              "       [ 1.07712481,  0.2       ,  0.6048    , ...,  0.        ,\n",
              "         0.        ,  0.        ]])"
            ]
          },
          "metadata": {
            "tags": []
          },
          "execution_count": 1006
        }
      ]
    },
    {
      "cell_type": "code",
      "metadata": {
        "id": "ChJv86ckpeTE"
      },
      "source": [
        "x_test = sc_x.transform(x_test)  # Transformed on train set mean and variance"
      ],
      "execution_count": 1007,
      "outputs": []
    },
    {
      "cell_type": "code",
      "metadata": {
        "id": "XWSHf8ZXpult"
      },
      "source": [
        "y_test_pred = clf.predict(x_test)  # Prediction"
      ],
      "execution_count": 1008,
      "outputs": []
    },
    {
      "cell_type": "code",
      "metadata": {
        "id": "d3-5uI6bp9zx"
      },
      "source": [
        "y_test_pred = sc_y.inverse_transform(y_test_pred)  # Inverse Transform Values"
      ],
      "execution_count": 1009,
      "outputs": []
    },
    {
      "cell_type": "code",
      "metadata": {
        "colab": {
          "base_uri": "https://localhost:8080/"
        },
        "id": "H2DlRG1ZsvS1",
        "outputId": "a818ee6c-9322-463f-aff3-a22021744ba6"
      },
      "source": [
        "y_test_pred"
      ],
      "execution_count": 1010,
      "outputs": [
        {
          "output_type": "execute_result",
          "data": {
            "text/plain": [
              "array([ 9.11619  , 47.62829  ,  4.0918427, ..., 39.26441  ,  2.0087872,\n",
              "        1.6656188], dtype=float32)"
            ]
          },
          "metadata": {
            "tags": []
          },
          "execution_count": 1010
        }
      ]
    },
    {
      "cell_type": "code",
      "metadata": {
        "id": "dw6pmebYswq3"
      },
      "source": [
        "a = pd.DataFrame(y_test_pred)  # Predictions Converting to Dataframe"
      ],
      "execution_count": 1011,
      "outputs": []
    },
    {
      "cell_type": "code",
      "metadata": {
        "id": "41URGgeEOwiY"
      },
      "source": [
        "a['id'] = df_test['id'] "
      ],
      "execution_count": 1012,
      "outputs": []
    },
    {
      "cell_type": "code",
      "metadata": {
        "id": "0fxsHix7O-Hq"
      },
      "source": [
        "a.columns = ['id', 'profit']"
      ],
      "execution_count": 1013,
      "outputs": []
    },
    {
      "cell_type": "code",
      "metadata": {
        "colab": {
          "base_uri": "https://localhost:8080/",
          "height": 402
        },
        "id": "ZOOKWxTZPMoa",
        "outputId": "60ac401b-0015-4888-c7f9-2d362fdabe23"
      },
      "source": [
        "a"
      ],
      "execution_count": 1014,
      "outputs": [
        {
          "output_type": "execute_result",
          "data": {
            "text/html": [
              "<div>\n",
              "<style scoped>\n",
              "    .dataframe tbody tr th:only-of-type {\n",
              "        vertical-align: middle;\n",
              "    }\n",
              "\n",
              "    .dataframe tbody tr th {\n",
              "        vertical-align: top;\n",
              "    }\n",
              "\n",
              "    .dataframe thead th {\n",
              "        text-align: right;\n",
              "    }\n",
              "</style>\n",
              "<table border=\"1\" class=\"dataframe\">\n",
              "  <thead>\n",
              "    <tr style=\"text-align: right;\">\n",
              "      <th></th>\n",
              "      <th>id</th>\n",
              "      <th>profit</th>\n",
              "    </tr>\n",
              "  </thead>\n",
              "  <tbody>\n",
              "    <tr>\n",
              "      <th>0</th>\n",
              "      <td>9.116190</td>\n",
              "      <td>6701</td>\n",
              "    </tr>\n",
              "    <tr>\n",
              "      <th>1</th>\n",
              "      <td>47.628288</td>\n",
              "      <td>6702</td>\n",
              "    </tr>\n",
              "    <tr>\n",
              "      <th>2</th>\n",
              "      <td>4.091843</td>\n",
              "      <td>6703</td>\n",
              "    </tr>\n",
              "    <tr>\n",
              "      <th>3</th>\n",
              "      <td>1.665619</td>\n",
              "      <td>6704</td>\n",
              "    </tr>\n",
              "    <tr>\n",
              "      <th>4</th>\n",
              "      <td>33.248638</td>\n",
              "      <td>6705</td>\n",
              "    </tr>\n",
              "    <tr>\n",
              "      <th>...</th>\n",
              "      <td>...</td>\n",
              "      <td>...</td>\n",
              "    </tr>\n",
              "    <tr>\n",
              "      <th>3289</th>\n",
              "      <td>3.972366</td>\n",
              "      <td>9990</td>\n",
              "    </tr>\n",
              "    <tr>\n",
              "      <th>3290</th>\n",
              "      <td>10.971268</td>\n",
              "      <td>9991</td>\n",
              "    </tr>\n",
              "    <tr>\n",
              "      <th>3291</th>\n",
              "      <td>39.264408</td>\n",
              "      <td>9992</td>\n",
              "    </tr>\n",
              "    <tr>\n",
              "      <th>3292</th>\n",
              "      <td>2.008787</td>\n",
              "      <td>9993</td>\n",
              "    </tr>\n",
              "    <tr>\n",
              "      <th>3293</th>\n",
              "      <td>1.665619</td>\n",
              "      <td>9994</td>\n",
              "    </tr>\n",
              "  </tbody>\n",
              "</table>\n",
              "<p>3294 rows × 2 columns</p>\n",
              "</div>"
            ],
            "text/plain": [
              "             id  profit\n",
              "0      9.116190    6701\n",
              "1     47.628288    6702\n",
              "2      4.091843    6703\n",
              "3      1.665619    6704\n",
              "4     33.248638    6705\n",
              "...         ...     ...\n",
              "3289   3.972366    9990\n",
              "3290  10.971268    9991\n",
              "3291  39.264408    9992\n",
              "3292   2.008787    9993\n",
              "3293   1.665619    9994\n",
              "\n",
              "[3294 rows x 2 columns]"
            ]
          },
          "metadata": {
            "tags": []
          },
          "execution_count": 1014
        }
      ]
    },
    {
      "cell_type": "code",
      "metadata": {
        "id": "dvHisFHWPOdk"
      },
      "source": [
        "v = a['id']\n",
        "w = a['profit']"
      ],
      "execution_count": 1015,
      "outputs": []
    },
    {
      "cell_type": "code",
      "metadata": {
        "id": "Ex6VUHqMPXpg"
      },
      "source": [
        "a['id'] = w\n",
        "a['profit'] = v"
      ],
      "execution_count": 1016,
      "outputs": []
    },
    {
      "cell_type": "code",
      "metadata": {
        "colab": {
          "base_uri": "https://localhost:8080/",
          "height": 402
        },
        "id": "_o_YmWqlPh64",
        "outputId": "042fd606-08f2-4789-de3d-eef82d950c25"
      },
      "source": [
        "a"
      ],
      "execution_count": 1017,
      "outputs": [
        {
          "output_type": "execute_result",
          "data": {
            "text/html": [
              "<div>\n",
              "<style scoped>\n",
              "    .dataframe tbody tr th:only-of-type {\n",
              "        vertical-align: middle;\n",
              "    }\n",
              "\n",
              "    .dataframe tbody tr th {\n",
              "        vertical-align: top;\n",
              "    }\n",
              "\n",
              "    .dataframe thead th {\n",
              "        text-align: right;\n",
              "    }\n",
              "</style>\n",
              "<table border=\"1\" class=\"dataframe\">\n",
              "  <thead>\n",
              "    <tr style=\"text-align: right;\">\n",
              "      <th></th>\n",
              "      <th>id</th>\n",
              "      <th>profit</th>\n",
              "    </tr>\n",
              "  </thead>\n",
              "  <tbody>\n",
              "    <tr>\n",
              "      <th>0</th>\n",
              "      <td>6701</td>\n",
              "      <td>9.116190</td>\n",
              "    </tr>\n",
              "    <tr>\n",
              "      <th>1</th>\n",
              "      <td>6702</td>\n",
              "      <td>47.628288</td>\n",
              "    </tr>\n",
              "    <tr>\n",
              "      <th>2</th>\n",
              "      <td>6703</td>\n",
              "      <td>4.091843</td>\n",
              "    </tr>\n",
              "    <tr>\n",
              "      <th>3</th>\n",
              "      <td>6704</td>\n",
              "      <td>1.665619</td>\n",
              "    </tr>\n",
              "    <tr>\n",
              "      <th>4</th>\n",
              "      <td>6705</td>\n",
              "      <td>33.248638</td>\n",
              "    </tr>\n",
              "    <tr>\n",
              "      <th>...</th>\n",
              "      <td>...</td>\n",
              "      <td>...</td>\n",
              "    </tr>\n",
              "    <tr>\n",
              "      <th>3289</th>\n",
              "      <td>9990</td>\n",
              "      <td>3.972366</td>\n",
              "    </tr>\n",
              "    <tr>\n",
              "      <th>3290</th>\n",
              "      <td>9991</td>\n",
              "      <td>10.971268</td>\n",
              "    </tr>\n",
              "    <tr>\n",
              "      <th>3291</th>\n",
              "      <td>9992</td>\n",
              "      <td>39.264408</td>\n",
              "    </tr>\n",
              "    <tr>\n",
              "      <th>3292</th>\n",
              "      <td>9993</td>\n",
              "      <td>2.008787</td>\n",
              "    </tr>\n",
              "    <tr>\n",
              "      <th>3293</th>\n",
              "      <td>9994</td>\n",
              "      <td>1.665619</td>\n",
              "    </tr>\n",
              "  </tbody>\n",
              "</table>\n",
              "<p>3294 rows × 2 columns</p>\n",
              "</div>"
            ],
            "text/plain": [
              "        id     profit\n",
              "0     6701   9.116190\n",
              "1     6702  47.628288\n",
              "2     6703   4.091843\n",
              "3     6704   1.665619\n",
              "4     6705  33.248638\n",
              "...    ...        ...\n",
              "3289  9990   3.972366\n",
              "3290  9991  10.971268\n",
              "3291  9992  39.264408\n",
              "3292  9993   2.008787\n",
              "3293  9994   1.665619\n",
              "\n",
              "[3294 rows x 2 columns]"
            ]
          },
          "metadata": {
            "tags": []
          },
          "execution_count": 1017
        }
      ]
    },
    {
      "cell_type": "code",
      "metadata": {
        "id": "vuD5Lk_ZPtL7"
      },
      "source": [
        "# saving the dataset\n",
        "b = a.to_csv('test_data14')"
      ],
      "execution_count": 986,
      "outputs": []
    },
    {
      "cell_type": "markdown",
      "metadata": {
        "id": "EynGCy6OeCL8"
      },
      "source": [
        "# **Testing Test Data**"
      ]
    },
    {
      "cell_type": "code",
      "metadata": {
        "colab": {
          "base_uri": "https://localhost:8080/",
          "height": 402
        },
        "id": "f45yOI1geGNP",
        "outputId": "3646772c-a41c-41af-fc45-5ee9137e5b66"
      },
      "source": [
        "df_test"
      ],
      "execution_count": null,
      "outputs": [
        {
          "output_type": "execute_result",
          "data": {
            "text/html": [
              "<div>\n",
              "<style scoped>\n",
              "    .dataframe tbody tr th:only-of-type {\n",
              "        vertical-align: middle;\n",
              "    }\n",
              "\n",
              "    .dataframe tbody tr th {\n",
              "        vertical-align: top;\n",
              "    }\n",
              "\n",
              "    .dataframe thead th {\n",
              "        text-align: right;\n",
              "    }\n",
              "</style>\n",
              "<table border=\"1\" class=\"dataframe\">\n",
              "  <thead>\n",
              "    <tr style=\"text-align: right;\">\n",
              "      <th></th>\n",
              "      <th>id</th>\n",
              "      <th>segment</th>\n",
              "      <th>RID</th>\n",
              "      <th>delivery type</th>\n",
              "      <th>class</th>\n",
              "      <th>sub-class</th>\n",
              "      <th>no of items</th>\n",
              "      <th>location</th>\n",
              "      <th>departure city</th>\n",
              "      <th>departure state</th>\n",
              "      <th>address code</th>\n",
              "      <th>placement date</th>\n",
              "      <th>delivery date</th>\n",
              "      <th>price</th>\n",
              "      <th>discount</th>\n",
              "    </tr>\n",
              "  </thead>\n",
              "  <tbody>\n",
              "    <tr>\n",
              "      <th>0</th>\n",
              "      <td>6701</td>\n",
              "      <td>Consumer</td>\n",
              "      <td>2408</td>\n",
              "      <td>Standard Class</td>\n",
              "      <td>kariox</td>\n",
              "      <td>television</td>\n",
              "      <td>5</td>\n",
              "      <td>West</td>\n",
              "      <td>San Francisco</td>\n",
              "      <td>California</td>\n",
              "      <td>94122</td>\n",
              "      <td>01-01-2021</td>\n",
              "      <td>01-01-2021</td>\n",
              "      <td>24.200</td>\n",
              "      <td>0.0</td>\n",
              "    </tr>\n",
              "    <tr>\n",
              "      <th>1</th>\n",
              "      <td>6702</td>\n",
              "      <td>Consumer</td>\n",
              "      <td>2409</td>\n",
              "      <td>Standard Class</td>\n",
              "      <td>fynota</td>\n",
              "      <td>colddrinks</td>\n",
              "      <td>3</td>\n",
              "      <td>West</td>\n",
              "      <td>San Francisco</td>\n",
              "      <td>California</td>\n",
              "      <td>94122</td>\n",
              "      <td>01-01-2021</td>\n",
              "      <td>01-01-2021</td>\n",
              "      <td>359.976</td>\n",
              "      <td>0.2</td>\n",
              "    </tr>\n",
              "    <tr>\n",
              "      <th>2</th>\n",
              "      <td>6703</td>\n",
              "      <td>Consumer</td>\n",
              "      <td>5425</td>\n",
              "      <td>Standard Class</td>\n",
              "      <td>kariox</td>\n",
              "      <td>television</td>\n",
              "      <td>2</td>\n",
              "      <td>East</td>\n",
              "      <td>Waterbury</td>\n",
              "      <td>Connecticut</td>\n",
              "      <td>6708</td>\n",
              "      <td>01-01-2021</td>\n",
              "      <td>01-01-2021</td>\n",
              "      <td>3.520</td>\n",
              "      <td>0.0</td>\n",
              "    </tr>\n",
              "    <tr>\n",
              "      <th>3</th>\n",
              "      <td>6704</td>\n",
              "      <td>Consumer</td>\n",
              "      <td>7408</td>\n",
              "      <td>First Class</td>\n",
              "      <td>kariox</td>\n",
              "      <td>tablet</td>\n",
              "      <td>5</td>\n",
              "      <td>Central</td>\n",
              "      <td>Chicago</td>\n",
              "      <td>Illinois</td>\n",
              "      <td>60653</td>\n",
              "      <td>01-01-2021</td>\n",
              "      <td>01-01-2021</td>\n",
              "      <td>11.520</td>\n",
              "      <td>0.2</td>\n",
              "    </tr>\n",
              "    <tr>\n",
              "      <th>4</th>\n",
              "      <td>6705</td>\n",
              "      <td>Home Office</td>\n",
              "      <td>733</td>\n",
              "      <td>Standard Class</td>\n",
              "      <td>kariox</td>\n",
              "      <td>laptop</td>\n",
              "      <td>3</td>\n",
              "      <td>West</td>\n",
              "      <td>Seattle</td>\n",
              "      <td>Washington</td>\n",
              "      <td>98115</td>\n",
              "      <td>01-01-2021</td>\n",
              "      <td>01-01-2021</td>\n",
              "      <td>242.940</td>\n",
              "      <td>0.0</td>\n",
              "    </tr>\n",
              "    <tr>\n",
              "      <th>...</th>\n",
              "      <td>...</td>\n",
              "      <td>...</td>\n",
              "      <td>...</td>\n",
              "      <td>...</td>\n",
              "      <td>...</td>\n",
              "      <td>...</td>\n",
              "      <td>...</td>\n",
              "      <td>...</td>\n",
              "      <td>...</td>\n",
              "      <td>...</td>\n",
              "      <td>...</td>\n",
              "      <td>...</td>\n",
              "      <td>...</td>\n",
              "      <td>...</td>\n",
              "      <td>...</td>\n",
              "    </tr>\n",
              "    <tr>\n",
              "      <th>3289</th>\n",
              "      <td>9990</td>\n",
              "      <td>Consumer</td>\n",
              "      <td>1171</td>\n",
              "      <td>Second Class</td>\n",
              "      <td>kariox</td>\n",
              "      <td>laptop</td>\n",
              "      <td>4</td>\n",
              "      <td>East</td>\n",
              "      <td>New York City</td>\n",
              "      <td>New York</td>\n",
              "      <td>10035</td>\n",
              "      <td>01-12-2021</td>\n",
              "      <td>01-12-2021</td>\n",
              "      <td>31.920</td>\n",
              "      <td>0.0</td>\n",
              "    </tr>\n",
              "    <tr>\n",
              "      <th>3290</th>\n",
              "      <td>9991</td>\n",
              "      <td>Consumer</td>\n",
              "      <td>1170</td>\n",
              "      <td>Second Class</td>\n",
              "      <td>kariox</td>\n",
              "      <td>phone</td>\n",
              "      <td>3</td>\n",
              "      <td>East</td>\n",
              "      <td>New York City</td>\n",
              "      <td>New York</td>\n",
              "      <td>10035</td>\n",
              "      <td>01-12-2021</td>\n",
              "      <td>01-12-2021</td>\n",
              "      <td>19.440</td>\n",
              "      <td>0.0</td>\n",
              "    </tr>\n",
              "    <tr>\n",
              "      <th>3291</th>\n",
              "      <td>9992</td>\n",
              "      <td>Consumer</td>\n",
              "      <td>1169</td>\n",
              "      <td>Second Class</td>\n",
              "      <td>kariox</td>\n",
              "      <td>laptop</td>\n",
              "      <td>3</td>\n",
              "      <td>East</td>\n",
              "      <td>New York City</td>\n",
              "      <td>New York</td>\n",
              "      <td>10035</td>\n",
              "      <td>01-12-2021</td>\n",
              "      <td>01-12-2021</td>\n",
              "      <td>272.940</td>\n",
              "      <td>0.0</td>\n",
              "    </tr>\n",
              "    <tr>\n",
              "      <th>3292</th>\n",
              "      <td>9993</td>\n",
              "      <td>Consumer</td>\n",
              "      <td>414</td>\n",
              "      <td>Standard Class</td>\n",
              "      <td>qexty</td>\n",
              "      <td>tshirts</td>\n",
              "      <td>2</td>\n",
              "      <td>West</td>\n",
              "      <td>San Francisco</td>\n",
              "      <td>California</td>\n",
              "      <td>94110</td>\n",
              "      <td>01-12-2021</td>\n",
              "      <td>01-12-2021</td>\n",
              "      <td>113.568</td>\n",
              "      <td>0.2</td>\n",
              "    </tr>\n",
              "    <tr>\n",
              "      <th>3293</th>\n",
              "      <td>9994</td>\n",
              "      <td>Consumer</td>\n",
              "      <td>5092</td>\n",
              "      <td>Standard Class</td>\n",
              "      <td>kariox</td>\n",
              "      <td>lighting</td>\n",
              "      <td>3</td>\n",
              "      <td>West</td>\n",
              "      <td>Loveland</td>\n",
              "      <td>Colorado</td>\n",
              "      <td>80538</td>\n",
              "      <td>01-12-2021</td>\n",
              "      <td>01-01-2022</td>\n",
              "      <td>3.024</td>\n",
              "      <td>0.2</td>\n",
              "    </tr>\n",
              "  </tbody>\n",
              "</table>\n",
              "<p>3294 rows × 15 columns</p>\n",
              "</div>"
            ],
            "text/plain": [
              "        id      segment   RID  ... delivery date    price discount\n",
              "0     6701     Consumer  2408  ...    01-01-2021   24.200      0.0\n",
              "1     6702     Consumer  2409  ...    01-01-2021  359.976      0.2\n",
              "2     6703     Consumer  5425  ...    01-01-2021    3.520      0.0\n",
              "3     6704     Consumer  7408  ...    01-01-2021   11.520      0.2\n",
              "4     6705  Home Office   733  ...    01-01-2021  242.940      0.0\n",
              "...    ...          ...   ...  ...           ...      ...      ...\n",
              "3289  9990     Consumer  1171  ...    01-12-2021   31.920      0.0\n",
              "3290  9991     Consumer  1170  ...    01-12-2021   19.440      0.0\n",
              "3291  9992     Consumer  1169  ...    01-12-2021  272.940      0.0\n",
              "3292  9993     Consumer   414  ...    01-12-2021  113.568      0.2\n",
              "3293  9994     Consumer  5092  ...    01-01-2022    3.024      0.2\n",
              "\n",
              "[3294 rows x 15 columns]"
            ]
          },
          "metadata": {
            "tags": []
          },
          "execution_count": 425
        }
      ]
    },
    {
      "cell_type": "code",
      "metadata": {
        "colab": {
          "base_uri": "https://localhost:8080/",
          "height": 402
        },
        "id": "nM-Zay3ueIBU",
        "outputId": "e76c7203-fa19-408e-bcc9-a11593ce5fd5"
      },
      "source": [
        "df_test[df_test['discount']>0.4]"
      ],
      "execution_count": null,
      "outputs": [
        {
          "output_type": "execute_result",
          "data": {
            "text/html": [
              "<div>\n",
              "<style scoped>\n",
              "    .dataframe tbody tr th:only-of-type {\n",
              "        vertical-align: middle;\n",
              "    }\n",
              "\n",
              "    .dataframe tbody tr th {\n",
              "        vertical-align: top;\n",
              "    }\n",
              "\n",
              "    .dataframe thead th {\n",
              "        text-align: right;\n",
              "    }\n",
              "</style>\n",
              "<table border=\"1\" class=\"dataframe\">\n",
              "  <thead>\n",
              "    <tr style=\"text-align: right;\">\n",
              "      <th></th>\n",
              "      <th>id</th>\n",
              "      <th>segment</th>\n",
              "      <th>RID</th>\n",
              "      <th>delivery type</th>\n",
              "      <th>class</th>\n",
              "      <th>sub-class</th>\n",
              "      <th>no of items</th>\n",
              "      <th>location</th>\n",
              "      <th>departure city</th>\n",
              "      <th>departure state</th>\n",
              "      <th>address code</th>\n",
              "      <th>placement date</th>\n",
              "      <th>delivery date</th>\n",
              "      <th>price</th>\n",
              "      <th>discount</th>\n",
              "    </tr>\n",
              "  </thead>\n",
              "  <tbody>\n",
              "    <tr>\n",
              "      <th>10</th>\n",
              "      <td>6711</td>\n",
              "      <td>Home Office</td>\n",
              "      <td>1097</td>\n",
              "      <td>Standard Class</td>\n",
              "      <td>kariox</td>\n",
              "      <td>headset</td>\n",
              "      <td>7</td>\n",
              "      <td>South</td>\n",
              "      <td>Charlotte</td>\n",
              "      <td>North Carolina</td>\n",
              "      <td>28205</td>\n",
              "      <td>01-01-2021</td>\n",
              "      <td>01-01-2021</td>\n",
              "      <td>35.784</td>\n",
              "      <td>0.7</td>\n",
              "    </tr>\n",
              "    <tr>\n",
              "      <th>27</th>\n",
              "      <td>6728</td>\n",
              "      <td>Consumer</td>\n",
              "      <td>8268</td>\n",
              "      <td>Standard Class</td>\n",
              "      <td>qexty</td>\n",
              "      <td>hoodies</td>\n",
              "      <td>1</td>\n",
              "      <td>Central</td>\n",
              "      <td>Aurora</td>\n",
              "      <td>Illinois</td>\n",
              "      <td>60505</td>\n",
              "      <td>01-01-2021</td>\n",
              "      <td>01-02-2021</td>\n",
              "      <td>69.375</td>\n",
              "      <td>0.5</td>\n",
              "    </tr>\n",
              "    <tr>\n",
              "      <th>48</th>\n",
              "      <td>6749</td>\n",
              "      <td>Consumer</td>\n",
              "      <td>3886</td>\n",
              "      <td>Standard Class</td>\n",
              "      <td>kariox</td>\n",
              "      <td>headset</td>\n",
              "      <td>4</td>\n",
              "      <td>Central</td>\n",
              "      <td>Chicago</td>\n",
              "      <td>Illinois</td>\n",
              "      <td>60653</td>\n",
              "      <td>01-01-2021</td>\n",
              "      <td>01-02-2021</td>\n",
              "      <td>12.128</td>\n",
              "      <td>0.8</td>\n",
              "    </tr>\n",
              "    <tr>\n",
              "      <th>57</th>\n",
              "      <td>6758</td>\n",
              "      <td>Consumer</td>\n",
              "      <td>8362</td>\n",
              "      <td>Second Class</td>\n",
              "      <td>kariox</td>\n",
              "      <td>battery</td>\n",
              "      <td>2</td>\n",
              "      <td>Central</td>\n",
              "      <td>El Paso</td>\n",
              "      <td>Texas</td>\n",
              "      <td>79907</td>\n",
              "      <td>01-01-2021</td>\n",
              "      <td>01-01-2021</td>\n",
              "      <td>5.432</td>\n",
              "      <td>0.8</td>\n",
              "    </tr>\n",
              "    <tr>\n",
              "      <th>66</th>\n",
              "      <td>6767</td>\n",
              "      <td>Consumer</td>\n",
              "      <td>2121</td>\n",
              "      <td>Standard Class</td>\n",
              "      <td>kariox</td>\n",
              "      <td>headset</td>\n",
              "      <td>3</td>\n",
              "      <td>South</td>\n",
              "      <td>Ormond Beach</td>\n",
              "      <td>Florida</td>\n",
              "      <td>32174</td>\n",
              "      <td>01-01-2021</td>\n",
              "      <td>01-01-2021</td>\n",
              "      <td>2.808</td>\n",
              "      <td>0.7</td>\n",
              "    </tr>\n",
              "    <tr>\n",
              "      <th>...</th>\n",
              "      <td>...</td>\n",
              "      <td>...</td>\n",
              "      <td>...</td>\n",
              "      <td>...</td>\n",
              "      <td>...</td>\n",
              "      <td>...</td>\n",
              "      <td>...</td>\n",
              "      <td>...</td>\n",
              "      <td>...</td>\n",
              "      <td>...</td>\n",
              "      <td>...</td>\n",
              "      <td>...</td>\n",
              "      <td>...</td>\n",
              "      <td>...</td>\n",
              "      <td>...</td>\n",
              "    </tr>\n",
              "    <tr>\n",
              "      <th>3213</th>\n",
              "      <td>9914</td>\n",
              "      <td>Consumer</td>\n",
              "      <td>4359</td>\n",
              "      <td>Same Day</td>\n",
              "      <td>qexty</td>\n",
              "      <td>shorts</td>\n",
              "      <td>1</td>\n",
              "      <td>Central</td>\n",
              "      <td>Aurora</td>\n",
              "      <td>Illinois</td>\n",
              "      <td>60505</td>\n",
              "      <td>01-12-2021</td>\n",
              "      <td>01-12-2021</td>\n",
              "      <td>77.720</td>\n",
              "      <td>0.6</td>\n",
              "    </tr>\n",
              "    <tr>\n",
              "      <th>3219</th>\n",
              "      <td>9920</td>\n",
              "      <td>Consumer</td>\n",
              "      <td>9410</td>\n",
              "      <td>First Class</td>\n",
              "      <td>kariox</td>\n",
              "      <td>headset</td>\n",
              "      <td>1</td>\n",
              "      <td>East</td>\n",
              "      <td>Philadelphia</td>\n",
              "      <td>Pennsylvania</td>\n",
              "      <td>19143</td>\n",
              "      <td>01-12-2021</td>\n",
              "      <td>01-12-2021</td>\n",
              "      <td>3.273</td>\n",
              "      <td>0.7</td>\n",
              "    </tr>\n",
              "    <tr>\n",
              "      <th>3247</th>\n",
              "      <td>9948</td>\n",
              "      <td>Corporate</td>\n",
              "      <td>4992</td>\n",
              "      <td>Standard Class</td>\n",
              "      <td>kariox</td>\n",
              "      <td>headset</td>\n",
              "      <td>5</td>\n",
              "      <td>Central</td>\n",
              "      <td>Chicago</td>\n",
              "      <td>Illinois</td>\n",
              "      <td>60653</td>\n",
              "      <td>01-12-2021</td>\n",
              "      <td>01-12-2021</td>\n",
              "      <td>1889.990</td>\n",
              "      <td>0.8</td>\n",
              "    </tr>\n",
              "    <tr>\n",
              "      <th>3270</th>\n",
              "      <td>9971</td>\n",
              "      <td>Corporate</td>\n",
              "      <td>77</td>\n",
              "      <td>First Class</td>\n",
              "      <td>qexty</td>\n",
              "      <td>shorts</td>\n",
              "      <td>3</td>\n",
              "      <td>Central</td>\n",
              "      <td>Houston</td>\n",
              "      <td>Texas</td>\n",
              "      <td>77041</td>\n",
              "      <td>01-12-2021</td>\n",
              "      <td>01-12-2021</td>\n",
              "      <td>9.708</td>\n",
              "      <td>0.6</td>\n",
              "    </tr>\n",
              "    <tr>\n",
              "      <th>3271</th>\n",
              "      <td>9972</td>\n",
              "      <td>Corporate</td>\n",
              "      <td>76</td>\n",
              "      <td>First Class</td>\n",
              "      <td>kariox</td>\n",
              "      <td>headset</td>\n",
              "      <td>3</td>\n",
              "      <td>Central</td>\n",
              "      <td>Houston</td>\n",
              "      <td>Texas</td>\n",
              "      <td>77041</td>\n",
              "      <td>01-12-2021</td>\n",
              "      <td>01-12-2021</td>\n",
              "      <td>1.248</td>\n",
              "      <td>0.8</td>\n",
              "    </tr>\n",
              "  </tbody>\n",
              "</table>\n",
              "<p>306 rows × 15 columns</p>\n",
              "</div>"
            ],
            "text/plain": [
              "        id      segment   RID  ... delivery date     price discount\n",
              "10    6711  Home Office  1097  ...    01-01-2021    35.784      0.7\n",
              "27    6728     Consumer  8268  ...    01-02-2021    69.375      0.5\n",
              "48    6749     Consumer  3886  ...    01-02-2021    12.128      0.8\n",
              "57    6758     Consumer  8362  ...    01-01-2021     5.432      0.8\n",
              "66    6767     Consumer  2121  ...    01-01-2021     2.808      0.7\n",
              "...    ...          ...   ...  ...           ...       ...      ...\n",
              "3213  9914     Consumer  4359  ...    01-12-2021    77.720      0.6\n",
              "3219  9920     Consumer  9410  ...    01-12-2021     3.273      0.7\n",
              "3247  9948    Corporate  4992  ...    01-12-2021  1889.990      0.8\n",
              "3270  9971    Corporate    77  ...    01-12-2021     9.708      0.6\n",
              "3271  9972    Corporate    76  ...    01-12-2021     1.248      0.8\n",
              "\n",
              "[306 rows x 15 columns]"
            ]
          },
          "metadata": {
            "tags": []
          },
          "execution_count": 94
        }
      ]
    },
    {
      "cell_type": "markdown",
      "metadata": {
        "id": "uce_kx6NI0hV"
      },
      "source": [
        "# **Box Cox transformation**"
      ]
    },
    {
      "cell_type": "code",
      "metadata": {
        "id": "_e7XoCNitHPP",
        "colab": {
          "base_uri": "https://localhost:8080/",
          "height": 570
        },
        "outputId": "f183c2c7-df99-468a-afa1-1d3a98c92618"
      },
      "source": [
        "df"
      ],
      "execution_count": null,
      "outputs": [
        {
          "output_type": "execute_result",
          "data": {
            "text/html": [
              "<div>\n",
              "<style scoped>\n",
              "    .dataframe tbody tr th:only-of-type {\n",
              "        vertical-align: middle;\n",
              "    }\n",
              "\n",
              "    .dataframe tbody tr th {\n",
              "        vertical-align: top;\n",
              "    }\n",
              "\n",
              "    .dataframe thead th {\n",
              "        text-align: right;\n",
              "    }\n",
              "</style>\n",
              "<table border=\"1\" class=\"dataframe\">\n",
              "  <thead>\n",
              "    <tr style=\"text-align: right;\">\n",
              "      <th></th>\n",
              "      <th>id</th>\n",
              "      <th>segment</th>\n",
              "      <th>RID</th>\n",
              "      <th>delivery type</th>\n",
              "      <th>class</th>\n",
              "      <th>sub-class</th>\n",
              "      <th>no of items</th>\n",
              "      <th>location</th>\n",
              "      <th>departure city</th>\n",
              "      <th>departure state</th>\n",
              "      <th>address code</th>\n",
              "      <th>placement date</th>\n",
              "      <th>delivery date</th>\n",
              "      <th>price</th>\n",
              "      <th>discount</th>\n",
              "      <th>profit</th>\n",
              "    </tr>\n",
              "  </thead>\n",
              "  <tbody>\n",
              "    <tr>\n",
              "      <th>0</th>\n",
              "      <td>1</td>\n",
              "      <td>Consumer</td>\n",
              "      <td>7981</td>\n",
              "      <td>Standard Class</td>\n",
              "      <td>kariox</td>\n",
              "      <td>phone</td>\n",
              "      <td>2</td>\n",
              "      <td>Central</td>\n",
              "      <td>Houston</td>\n",
              "      <td>Texas</td>\n",
              "      <td>77095</td>\n",
              "      <td>01-01-2018</td>\n",
              "      <td>01-01-2018</td>\n",
              "      <td>16.448</td>\n",
              "      <td>0.2</td>\n",
              "      <td>5.5512</td>\n",
              "    </tr>\n",
              "    <tr>\n",
              "      <th>1</th>\n",
              "      <td>2</td>\n",
              "      <td>Consumer</td>\n",
              "      <td>6334</td>\n",
              "      <td>Standard Class</td>\n",
              "      <td>kariox</td>\n",
              "      <td>headset</td>\n",
              "      <td>5</td>\n",
              "      <td>Central</td>\n",
              "      <td>Westland</td>\n",
              "      <td>Michigan</td>\n",
              "      <td>48185</td>\n",
              "      <td>01-01-2018</td>\n",
              "      <td>01-01-2018</td>\n",
              "      <td>29.700</td>\n",
              "      <td>0.0</td>\n",
              "      <td>13.3650</td>\n",
              "    </tr>\n",
              "    <tr>\n",
              "      <th>2</th>\n",
              "      <td>3</td>\n",
              "      <td>Consumer</td>\n",
              "      <td>6333</td>\n",
              "      <td>Standard Class</td>\n",
              "      <td>qexty</td>\n",
              "      <td>shorts</td>\n",
              "      <td>3</td>\n",
              "      <td>Central</td>\n",
              "      <td>Westland</td>\n",
              "      <td>Michigan</td>\n",
              "      <td>48185</td>\n",
              "      <td>01-01-2018</td>\n",
              "      <td>01-01-2018</td>\n",
              "      <td>14.730</td>\n",
              "      <td>0.0</td>\n",
              "      <td>4.8609</td>\n",
              "    </tr>\n",
              "    <tr>\n",
              "      <th>3</th>\n",
              "      <td>4</td>\n",
              "      <td>Consumer</td>\n",
              "      <td>6332</td>\n",
              "      <td>Standard Class</td>\n",
              "      <td>kariox</td>\n",
              "      <td>television</td>\n",
              "      <td>3</td>\n",
              "      <td>Central</td>\n",
              "      <td>Westland</td>\n",
              "      <td>Michigan</td>\n",
              "      <td>48185</td>\n",
              "      <td>01-01-2018</td>\n",
              "      <td>01-01-2018</td>\n",
              "      <td>43.920</td>\n",
              "      <td>0.0</td>\n",
              "      <td>12.7368</td>\n",
              "    </tr>\n",
              "    <tr>\n",
              "      <th>4</th>\n",
              "      <td>5</td>\n",
              "      <td>Consumer</td>\n",
              "      <td>6331</td>\n",
              "      <td>Standard Class</td>\n",
              "      <td>kariox</td>\n",
              "      <td>laptop</td>\n",
              "      <td>2</td>\n",
              "      <td>Central</td>\n",
              "      <td>Westland</td>\n",
              "      <td>Michigan</td>\n",
              "      <td>48185</td>\n",
              "      <td>01-01-2018</td>\n",
              "      <td>01-01-2018</td>\n",
              "      <td>66.580</td>\n",
              "      <td>0.0</td>\n",
              "      <td>15.9792</td>\n",
              "    </tr>\n",
              "    <tr>\n",
              "      <th>...</th>\n",
              "      <td>...</td>\n",
              "      <td>...</td>\n",
              "      <td>...</td>\n",
              "      <td>...</td>\n",
              "      <td>...</td>\n",
              "      <td>...</td>\n",
              "      <td>...</td>\n",
              "      <td>...</td>\n",
              "      <td>...</td>\n",
              "      <td>...</td>\n",
              "      <td>...</td>\n",
              "      <td>...</td>\n",
              "      <td>...</td>\n",
              "      <td>...</td>\n",
              "      <td>...</td>\n",
              "      <td>...</td>\n",
              "    </tr>\n",
              "    <tr>\n",
              "      <th>6695</th>\n",
              "      <td>6696</td>\n",
              "      <td>Consumer</td>\n",
              "      <td>9389</td>\n",
              "      <td>Standard Class</td>\n",
              "      <td>kariox</td>\n",
              "      <td>battery</td>\n",
              "      <td>3</td>\n",
              "      <td>East</td>\n",
              "      <td>Burlington</td>\n",
              "      <td>Vermont</td>\n",
              "      <td>5408</td>\n",
              "      <td>01-01-2021</td>\n",
              "      <td>01-01-2021</td>\n",
              "      <td>542.940</td>\n",
              "      <td>0.0</td>\n",
              "      <td>152.0232</td>\n",
              "    </tr>\n",
              "    <tr>\n",
              "      <th>6696</th>\n",
              "      <td>6697</td>\n",
              "      <td>Corporate</td>\n",
              "      <td>9597</td>\n",
              "      <td>Standard Class</td>\n",
              "      <td>kariox</td>\n",
              "      <td>headset</td>\n",
              "      <td>2</td>\n",
              "      <td>West</td>\n",
              "      <td>San Jose</td>\n",
              "      <td>California</td>\n",
              "      <td>95123</td>\n",
              "      <td>01-01-2021</td>\n",
              "      <td>01-01-2021</td>\n",
              "      <td>276.784</td>\n",
              "      <td>0.2</td>\n",
              "      <td>89.9548</td>\n",
              "    </tr>\n",
              "    <tr>\n",
              "      <th>6697</th>\n",
              "      <td>6698</td>\n",
              "      <td>Consumer</td>\n",
              "      <td>9390</td>\n",
              "      <td>Standard Class</td>\n",
              "      <td>kariox</td>\n",
              "      <td>watch</td>\n",
              "      <td>1</td>\n",
              "      <td>East</td>\n",
              "      <td>Burlington</td>\n",
              "      <td>Vermont</td>\n",
              "      <td>5408</td>\n",
              "      <td>01-01-2021</td>\n",
              "      <td>01-01-2021</td>\n",
              "      <td>2.040</td>\n",
              "      <td>0.0</td>\n",
              "      <td>0.9588</td>\n",
              "    </tr>\n",
              "    <tr>\n",
              "      <th>6698</th>\n",
              "      <td>6699</td>\n",
              "      <td>Corporate</td>\n",
              "      <td>440</td>\n",
              "      <td>Second Class</td>\n",
              "      <td>qexty</td>\n",
              "      <td>tshirts</td>\n",
              "      <td>3</td>\n",
              "      <td>East</td>\n",
              "      <td>New York City</td>\n",
              "      <td>New York</td>\n",
              "      <td>10024</td>\n",
              "      <td>01-01-2021</td>\n",
              "      <td>01-01-2021</td>\n",
              "      <td>207.846</td>\n",
              "      <td>0.1</td>\n",
              "      <td>2.3094</td>\n",
              "    </tr>\n",
              "    <tr>\n",
              "      <th>6699</th>\n",
              "      <td>6700</td>\n",
              "      <td>Consumer</td>\n",
              "      <td>1659</td>\n",
              "      <td>Standard Class</td>\n",
              "      <td>fynota</td>\n",
              "      <td>colddrinks</td>\n",
              "      <td>3</td>\n",
              "      <td>West</td>\n",
              "      <td>Los Angeles</td>\n",
              "      <td>California</td>\n",
              "      <td>90045</td>\n",
              "      <td>01-01-2021</td>\n",
              "      <td>01-01-2021</td>\n",
              "      <td>160.776</td>\n",
              "      <td>0.2</td>\n",
              "      <td>10.0485</td>\n",
              "    </tr>\n",
              "  </tbody>\n",
              "</table>\n",
              "<p>6700 rows × 16 columns</p>\n",
              "</div>"
            ],
            "text/plain": [
              "        id    segment   RID  ...    price discount    profit\n",
              "0        1   Consumer  7981  ...   16.448      0.2    5.5512\n",
              "1        2   Consumer  6334  ...   29.700      0.0   13.3650\n",
              "2        3   Consumer  6333  ...   14.730      0.0    4.8609\n",
              "3        4   Consumer  6332  ...   43.920      0.0   12.7368\n",
              "4        5   Consumer  6331  ...   66.580      0.0   15.9792\n",
              "...    ...        ...   ...  ...      ...      ...       ...\n",
              "6695  6696   Consumer  9389  ...  542.940      0.0  152.0232\n",
              "6696  6697  Corporate  9597  ...  276.784      0.2   89.9548\n",
              "6697  6698   Consumer  9390  ...    2.040      0.0    0.9588\n",
              "6698  6699  Corporate   440  ...  207.846      0.1    2.3094\n",
              "6699  6700   Consumer  1659  ...  160.776      0.2   10.0485\n",
              "\n",
              "[6700 rows x 16 columns]"
            ]
          },
          "metadata": {
            "tags": []
          },
          "execution_count": 8
        }
      ]
    },
    {
      "cell_type": "markdown",
      "metadata": {
        "id": "5DfXJdr7MmF4"
      },
      "source": [
        "**Numerical values Transformation**"
      ]
    },
    {
      "cell_type": "code",
      "metadata": {
        "id": "sCPZ9WQnMl7T"
      },
      "source": [
        "from scipy import stats "
      ],
      "execution_count": null,
      "outputs": []
    },
    {
      "cell_type": "code",
      "metadata": {
        "id": "Y_vicSkEm6ub"
      },
      "source": [
        "p = df1[['profit_price']]\n",
        "p = p.to_numpy()"
      ],
      "execution_count": null,
      "outputs": []
    },
    {
      "cell_type": "code",
      "metadata": {
        "colab": {
          "base_uri": "https://localhost:8080/",
          "height": 377
        },
        "id": "iNInBWqPnPpY",
        "outputId": "1cdc95c7-6359-4406-c36a-1e94938f94e8"
      },
      "source": [
        "sns.set_style(\"whitegrid\")  # Setting style(Optional)\n",
        "plt.figure(figsize = (10,5)) #Specify the size of figure we want(Optional)\n",
        "sns.distplot(x = p  ,  bins = 10 , kde = True , color = 'teal'\n",
        "             , kde_kws=dict(linewidth = 4 , color = 'black'))\n",
        "plt.show()"
      ],
      "execution_count": null,
      "outputs": [
        {
          "output_type": "stream",
          "text": [
            "/usr/local/lib/python3.7/dist-packages/seaborn/distributions.py:2557: FutureWarning: `distplot` is a deprecated function and will be removed in a future version. Please adapt your code to use either `displot` (a figure-level function with similar flexibility) or `histplot` (an axes-level function for histograms).\n",
            "  warnings.warn(msg, FutureWarning)\n"
          ],
          "name": "stderr"
        },
        {
          "output_type": "display_data",
          "data": {
            "image/png": "[encoded data removed]",
            "text/plain": [
              "<Figure size 720x360 with 1 Axes>"
            ]
          },
          "metadata": {
            "tags": []
          }
        }
      ]
    },
    {
      "cell_type": "code",
      "metadata": {
        "id": "mkJJDDqinev1"
      },
      "source": [
        "p = p.reshape((p.shape[0],))"
      ],
      "execution_count": null,
      "outputs": []
    },
    {
      "cell_type": "code",
      "metadata": {
        "id": "9SyI-YCznaU1"
      },
      "source": [
        "p, lmbda = stats.yeojohnson(p)"
      ],
      "execution_count": null,
      "outputs": []
    },
    {
      "cell_type": "code",
      "metadata": {
        "colab": {
          "base_uri": "https://localhost:8080/",
          "height": 374
        },
        "id": "inUZvT54nlTD",
        "outputId": "9c205f70-ac9a-45cc-ac1a-9b5336cea6cb"
      },
      "source": [
        "sns.set_style(\"whitegrid\")  # Setting style(Optional)\n",
        "plt.figure(figsize = (10,5)) #Specify the size of figure we want(Optional)\n",
        "sns.distplot(x = p  ,  bins = 10 , kde = True , color = 'teal'\\\n",
        "             , kde_kws=dict(linewidth = 4 , color = 'black'))\n",
        "plt.show()"
      ],
      "execution_count": null,
      "outputs": [
        {
          "output_type": "stream",
          "text": [
            "/usr/local/lib/python3.7/dist-packages/seaborn/distributions.py:2557: FutureWarning: `distplot` is a deprecated function and will be removed in a future version. Please adapt your code to use either `displot` (a figure-level function with similar flexibility) or `histplot` (an axes-level function for histograms).\n",
            "  warnings.warn(msg, FutureWarning)\n"
          ],
          "name": "stderr"
        },
        {
          "output_type": "display_data",
          "data": {
            "image/png": "[encoded data removed]",
            "text/plain": [
              "<Figure size 720x360 with 1 Axes>"
            ]
          },
          "metadata": {
            "tags": []
          }
        }
      ]
    },
    {
      "cell_type": "code",
      "metadata": {
        "id": "R_rUpiciM6Ob"
      },
      "source": [
        "discount = df[['discount']]\n",
        "items = df[['no of items']]\n",
        "price = df[['price']]\n",
        "profit = df[['profit']]\n",
        "pd1 = df1[['price_discount']]\n",
        "pdi = df1[['price_discount_items']]\n",
        "sp = df1[['selling_price']]\n",
        "pi = df1[['price_items']]"
      ],
      "execution_count": null,
      "outputs": []
    },
    {
      "cell_type": "code",
      "metadata": {
        "id": "vENIDVg9O5s3"
      },
      "source": [
        "discount = discount.to_numpy()\n",
        "items = items.to_numpy()\n",
        "price = price.to_numpy()\n",
        "profit = profit.to_numpy()\n",
        "pd1 = pd1.to_numpy()\n",
        "pdi = pdi.to_numpy()\n",
        "sp = sp.to_numpy()\n",
        "pi = pi.to_numpy()"
      ],
      "execution_count": null,
      "outputs": []
    },
    {
      "cell_type": "markdown",
      "metadata": {
        "id": "7rbOiiHWQL_a"
      },
      "source": [
        "Before Box Cox Transformation"
      ]
    },
    {
      "cell_type": "code",
      "metadata": {
        "colab": {
          "base_uri": "https://localhost:8080/",
          "height": 374
        },
        "id": "oRodl9fRHd8t",
        "outputId": "d47b3d90-93bd-4c45-f697-bdbdafd2c909"
      },
      "source": [
        "sns.set_style(\"whitegrid\")  # Setting style(Optional)\n",
        "plt.figure(figsize = (10,5)) #Specify the size of figure we want(Optional)\n",
        "sns.distplot(x = pd1  ,  bins = 10 , kde = True , color = 'teal'\\\n",
        "             , kde_kws=dict(linewidth = 4 , color = 'black'))\n",
        "plt.show()"
      ],
      "execution_count": null,
      "outputs": [
        {
          "output_type": "stream",
          "text": [
            "/usr/local/lib/python3.7/dist-packages/seaborn/distributions.py:2557: FutureWarning: `distplot` is a deprecated function and will be removed in a future version. Please adapt your code to use either `displot` (a figure-level function with similar flexibility) or `histplot` (an axes-level function for histograms).\n",
            "  warnings.warn(msg, FutureWarning)\n"
          ],
          "name": "stderr"
        },
        {
          "output_type": "display_data",
          "data": {
            "image/png": "[encoded data removed]",
            "text/plain": [
              "<Figure size 720x360 with 1 Axes>"
            ]
          },
          "metadata": {
            "tags": []
          }
        }
      ]
    },
    {
      "cell_type": "code",
      "metadata": {
        "colab": {
          "base_uri": "https://localhost:8080/",
          "height": 374
        },
        "id": "7ISW1dsZHhHs",
        "outputId": "c26c2b7f-bf01-4802-dd99-46fa31bf7f8a"
      },
      "source": [
        "sns.set_style(\"whitegrid\")  # Setting style(Optional)\n",
        "plt.figure(figsize = (10,5)) #Specify the size of figure we want(Optional)\n",
        "sns.distplot(x = pdi  ,  bins = 10 , kde = True , color = 'teal'\\\n",
        "             , kde_kws=dict(linewidth = 4 , color = 'black'))\n",
        "plt.show()"
      ],
      "execution_count": null,
      "outputs": [
        {
          "output_type": "stream",
          "text": [
            "/usr/local/lib/python3.7/dist-packages/seaborn/distributions.py:2557: FutureWarning: `distplot` is a deprecated function and will be removed in a future version. Please adapt your code to use either `displot` (a figure-level function with similar flexibility) or `histplot` (an axes-level function for histograms).\n",
            "  warnings.warn(msg, FutureWarning)\n"
          ],
          "name": "stderr"
        },
        {
          "output_type": "display_data",
          "data": {
            "image/png": "[encoded data removed]",
            "text/plain": [
              "<Figure size 720x360 with 1 Axes>"
            ]
          },
          "metadata": {
            "tags": []
          }
        }
      ]
    },
    {
      "cell_type": "code",
      "metadata": {
        "colab": {
          "base_uri": "https://localhost:8080/",
          "height": 374
        },
        "id": "u4a5vez5HmuO",
        "outputId": "eb98c88d-874a-4408-dc8b-c0383615a040"
      },
      "source": [
        "sns.set_style(\"whitegrid\")  # Setting style(Optional)\n",
        "plt.figure(figsize = (10,5)) #Specify the size of figure we want(Optional)\n",
        "sns.distplot(x = sp  ,  bins = 10 , kde = True , color = 'teal'\\\n",
        "             , kde_kws=dict(linewidth = 4 , color = 'black'))\n",
        "plt.show()"
      ],
      "execution_count": null,
      "outputs": [
        {
          "output_type": "stream",
          "text": [
            "/usr/local/lib/python3.7/dist-packages/seaborn/distributions.py:2557: FutureWarning: `distplot` is a deprecated function and will be removed in a future version. Please adapt your code to use either `displot` (a figure-level function with similar flexibility) or `histplot` (an axes-level function for histograms).\n",
            "  warnings.warn(msg, FutureWarning)\n"
          ],
          "name": "stderr"
        },
        {
          "output_type": "display_data",
          "data": {
            "image/png": "[encoded data removed]",
            "text/plain": [
              "<Figure size 720x360 with 1 Axes>"
            ]
          },
          "metadata": {
            "tags": []
          }
        }
      ]
    },
    {
      "cell_type": "code",
      "metadata": {
        "colab": {
          "base_uri": "https://localhost:8080/",
          "height": 374
        },
        "id": "wi_k8GiUHpty",
        "outputId": "6e8499dc-f913-470f-b8db-5da7259535ca"
      },
      "source": [
        "sns.set_style(\"whitegrid\")  # Setting style(Optional)\n",
        "plt.figure(figsize = (10,5)) #Specify the size of figure we want(Optional)\n",
        "sns.distplot(x = pi  ,  bins = 10 , kde = True , color = 'teal'\\\n",
        "             , kde_kws=dict(linewidth = 4 , color = 'black'))\n",
        "plt.show()"
      ],
      "execution_count": null,
      "outputs": [
        {
          "output_type": "stream",
          "text": [
            "/usr/local/lib/python3.7/dist-packages/seaborn/distributions.py:2557: FutureWarning: `distplot` is a deprecated function and will be removed in a future version. Please adapt your code to use either `displot` (a figure-level function with similar flexibility) or `histplot` (an axes-level function for histograms).\n",
            "  warnings.warn(msg, FutureWarning)\n"
          ],
          "name": "stderr"
        },
        {
          "output_type": "display_data",
          "data": {
            "image/png": "[encoded data removed]",
            "text/plain": [
              "<Figure size 720x360 with 1 Axes>"
            ]
          },
          "metadata": {
            "tags": []
          }
        }
      ]
    },
    {
      "cell_type": "code",
      "metadata": {
        "colab": {
          "base_uri": "https://localhost:8080/",
          "height": 374
        },
        "id": "SJTRZi13yDOC",
        "outputId": "9056d1bc-f6b5-4415-8990-3f250ebebefb"
      },
      "source": [
        "sns.set_style(\"whitegrid\")  # Setting style(Optional)\n",
        "plt.figure(figsize = (10,5)) #Specify the size of figure we want(Optional)\n",
        "sns.distplot(x = price  ,  bins = 10 , kde = True , color = 'teal'\\\n",
        "             , kde_kws=dict(linewidth = 4 , color = 'black'))\n",
        "plt.show()"
      ],
      "execution_count": null,
      "outputs": [
        {
          "output_type": "stream",
          "text": [
            "/usr/local/lib/python3.7/dist-packages/seaborn/distributions.py:2557: FutureWarning: `distplot` is a deprecated function and will be removed in a future version. Please adapt your code to use either `displot` (a figure-level function with similar flexibility) or `histplot` (an axes-level function for histograms).\n",
            "  warnings.warn(msg, FutureWarning)\n"
          ],
          "name": "stderr"
        },
        {
          "output_type": "display_data",
          "data": {
            "image/png": "[encoded data removed]",
            "text/plain": [
              "<Figure size 720x360 with 1 Axes>"
            ]
          },
          "metadata": {
            "tags": []
          }
        }
      ]
    },
    {
      "cell_type": "code",
      "metadata": {
        "colab": {
          "base_uri": "https://localhost:8080/",
          "height": 374
        },
        "id": "Hmby7HRMyH0N",
        "outputId": "febd464c-69ac-454f-b9bd-0e0062762484"
      },
      "source": [
        "sns.set_style(\"whitegrid\")  # Setting style(Optional)\n",
        "plt.figure(figsize = (10,5)) #Specify the size of figure we want(Optional)\n",
        "sns.distplot(x = profit  ,  bins = 10 , kde = True , color = 'teal'\\\n",
        "             , kde_kws=dict(linewidth = 4 , color = 'black'))\n",
        "plt.show()"
      ],
      "execution_count": null,
      "outputs": [
        {
          "output_type": "stream",
          "text": [
            "/usr/local/lib/python3.7/dist-packages/seaborn/distributions.py:2557: FutureWarning: `distplot` is a deprecated function and will be removed in a future version. Please adapt your code to use either `displot` (a figure-level function with similar flexibility) or `histplot` (an axes-level function for histograms).\n",
            "  warnings.warn(msg, FutureWarning)\n"
          ],
          "name": "stderr"
        },
        {
          "output_type": "display_data",
          "data": {
            "image/png": "[encoded data removed]",
            "text/plain": [
              "<Figure size 720x360 with 1 Axes>"
            ]
          },
          "metadata": {
            "tags": []
          }
        }
      ]
    },
    {
      "cell_type": "code",
      "metadata": {
        "colab": {
          "base_uri": "https://localhost:8080/",
          "height": 374
        },
        "id": "kgw_9KnnMl0_",
        "outputId": "e3e72efa-7b32-4def-8a42-a956bf400372"
      },
      "source": [
        "sns.set_style(\"whitegrid\")  # Setting style(Optional)\n",
        "plt.figure(figsize = (10,5)) #Specify the size of figure we want(Optional)\n",
        "sns.distplot(x = discount  ,  bins = 10 , kde = True , color = 'teal'\\\n",
        "             , kde_kws=dict(linewidth = 4 , color = 'black'))\n",
        "plt.show()"
      ],
      "execution_count": null,
      "outputs": [
        {
          "output_type": "stream",
          "text": [
            "/usr/local/lib/python3.7/dist-packages/seaborn/distributions.py:2557: FutureWarning: `distplot` is a deprecated function and will be removed in a future version. Please adapt your code to use either `displot` (a figure-level function with similar flexibility) or `histplot` (an axes-level function for histograms).\n",
            "  warnings.warn(msg, FutureWarning)\n"
          ],
          "name": "stderr"
        },
        {
          "output_type": "display_data",
          "data": {
            "image/png": "[encoded data removed]",
            "text/plain": [
              "<Figure size 720x360 with 1 Axes>"
            ]
          },
          "metadata": {
            "tags": []
          }
        }
      ]
    },
    {
      "cell_type": "code",
      "metadata": {
        "colab": {
          "base_uri": "https://localhost:8080/",
          "height": 374
        },
        "id": "Fu6aKMrkRij2",
        "outputId": "2270f052-cb29-43ce-dd2c-412df94c6ce0"
      },
      "source": [
        "sns.set_style(\"whitegrid\")  # Setting style(Optional)\n",
        "plt.figure(figsize = (10,5)) #Specify the size of figure we want(Optional)\n",
        "sns.distplot(x = items  ,  bins = 10 , kde = True , color = 'teal'\\\n",
        "             , kde_kws=dict(linewidth = 4 , color = 'black'))\n",
        "plt.show()"
      ],
      "execution_count": null,
      "outputs": [
        {
          "output_type": "stream",
          "text": [
            "/usr/local/lib/python3.7/dist-packages/seaborn/distributions.py:2557: FutureWarning: `distplot` is a deprecated function and will be removed in a future version. Please adapt your code to use either `displot` (a figure-level function with similar flexibility) or `histplot` (an axes-level function for histograms).\n",
            "  warnings.warn(msg, FutureWarning)\n"
          ],
          "name": "stderr"
        },
        {
          "output_type": "display_data",
          "data": {
            "image/png": "[encoded data removed]",
            "text/plain": [
              "<Figure size 720x360 with 1 Axes>"
            ]
          },
          "metadata": {
            "tags": []
          }
        }
      ]
    },
    {
      "cell_type": "code",
      "metadata": {
        "id": "flfTd0ZFQVVj"
      },
      "source": [
        "items = items.reshape((6700,))\n",
        "discount = discount.reshape((6700,))\n",
        "price = price.reshape((6700,))\n",
        "profit = profit.reshape((6700,))\n",
        "pd1 = pd1.reshape((6697,))\n",
        "pdi = pdi.reshape((6697,))\n",
        "sp = sp.reshape((6697,))\n",
        "pi = pi.reshape((6697,))"
      ],
      "execution_count": null,
      "outputs": []
    },
    {
      "cell_type": "markdown",
      "metadata": {
        "id": "RkLQW8RoRxbM"
      },
      "source": [
        "After Box Cox Transformation"
      ]
    },
    {
      "cell_type": "code",
      "metadata": {
        "id": "Ag13FepBMlv0"
      },
      "source": [
        "items, fitted_lambda = stats.boxcox(items) \n",
        "price, lambd = stats.boxcox(price)"
      ],
      "execution_count": null,
      "outputs": []
    },
    {
      "cell_type": "code",
      "metadata": {
        "id": "B97KT78Uyjhf"
      },
      "source": [
        "profit, l = stats.yeojohnson(profit)\n",
        "discount, l = stats.yeojohnson(discount)\n",
        "pd1, l = stats.yeojohnson(pd1)\n",
        "pdi, l = stats.yeojohnson(pdi)\n",
        "sp, l = stats.yeojohnson(sp)\n",
        "pi, l = stats.yeojohnson(pi)"
      ],
      "execution_count": null,
      "outputs": []
    },
    {
      "cell_type": "code",
      "metadata": {
        "colab": {
          "base_uri": "https://localhost:8080/",
          "height": 374
        },
        "id": "FxXqJ9ToMlpz",
        "outputId": "dae94b8e-d4d6-4c9d-859c-66a30750318b"
      },
      "source": [
        "sns.set_style(\"whitegrid\")  # Setting style(Optional)\n",
        "plt.figure(figsize = (10,5)) #Specify the size of figure we want(Optional)\n",
        "sns.distplot(x = items  ,  bins = 10 , kde = True , color = 'teal'\\\n",
        "             , kde_kws=dict(linewidth = 4 , color = 'black'))\n",
        "plt.show()"
      ],
      "execution_count": null,
      "outputs": [
        {
          "output_type": "stream",
          "text": [
            "/usr/local/lib/python3.7/dist-packages/seaborn/distributions.py:2557: FutureWarning: `distplot` is a deprecated function and will be removed in a future version. Please adapt your code to use either `displot` (a figure-level function with similar flexibility) or `histplot` (an axes-level function for histograms).\n",
            "  warnings.warn(msg, FutureWarning)\n"
          ],
          "name": "stderr"
        },
        {
          "output_type": "display_data",
          "data": {
            "image/png": "[encoded data removed]",
            "text/plain": [
              "<Figure size 720x360 with 1 Axes>"
            ]
          },
          "metadata": {
            "tags": []
          }
        }
      ]
    },
    {
      "cell_type": "code",
      "metadata": {
        "colab": {
          "base_uri": "https://localhost:8080/",
          "height": 374
        },
        "id": "NVbFcxRDyyh_",
        "outputId": "746ba948-ddd6-4249-93fd-b7c3c52394a5"
      },
      "source": [
        "sns.set_style(\"whitegrid\")  # Setting style(Optional)\n",
        "plt.figure(figsize = (10,5)) #Specify the size of figure we want(Optional)\n",
        "sns.distplot(x = price  ,  bins = 10 , kde = True , color = 'teal'\\\n",
        "             , kde_kws=dict(linewidth = 4 , color = 'black'))\n",
        "plt.show()"
      ],
      "execution_count": null,
      "outputs": [
        {
          "output_type": "stream",
          "text": [
            "/usr/local/lib/python3.7/dist-packages/seaborn/distributions.py:2557: FutureWarning: `distplot` is a deprecated function and will be removed in a future version. Please adapt your code to use either `displot` (a figure-level function with similar flexibility) or `histplot` (an axes-level function for histograms).\n",
            "  warnings.warn(msg, FutureWarning)\n"
          ],
          "name": "stderr"
        },
        {
          "output_type": "display_data",
          "data": {
            "image/png": "[encoded data removed]",
            "text/plain": [
              "<Figure size 720x360 with 1 Axes>"
            ]
          },
          "metadata": {
            "tags": []
          }
        }
      ]
    },
    {
      "cell_type": "code",
      "metadata": {
        "colab": {
          "base_uri": "https://localhost:8080/",
          "height": 374
        },
        "id": "A_n81SuOI1Te",
        "outputId": "cd90f4e2-c54d-4e7c-954b-1b6ad8e3cc9e"
      },
      "source": [
        "sns.set_style(\"whitegrid\")  # Setting style(Optional)\n",
        "plt.figure(figsize = (10,5)) #Specify the size of figure we want(Optional)\n",
        "sns.distplot(x = pd1  ,  bins = 10 , kde = True , color = 'teal'\\\n",
        "             , kde_kws=dict(linewidth = 4 , color = 'black'))\n",
        "plt.show()"
      ],
      "execution_count": null,
      "outputs": [
        {
          "output_type": "stream",
          "text": [
            "/usr/local/lib/python3.7/dist-packages/seaborn/distributions.py:2557: FutureWarning: `distplot` is a deprecated function and will be removed in a future version. Please adapt your code to use either `displot` (a figure-level function with similar flexibility) or `histplot` (an axes-level function for histograms).\n",
            "  warnings.warn(msg, FutureWarning)\n"
          ],
          "name": "stderr"
        },
        {
          "output_type": "display_data",
          "data": {
            "image/png": "[encoded data removed]",
            "text/plain": [
              "<Figure size 720x360 with 1 Axes>"
            ]
          },
          "metadata": {
            "tags": []
          }
        }
      ]
    },
    {
      "cell_type": "code",
      "metadata": {
        "colab": {
          "base_uri": "https://localhost:8080/",
          "height": 374
        },
        "id": "BfU90Hg9I4FH",
        "outputId": "4700a0e8-ac4c-4b86-f279-433f05dd7f84"
      },
      "source": [
        "sns.set_style(\"whitegrid\")  # Setting style(Optional)\n",
        "plt.figure(figsize = (10,5)) #Specify the size of figure we want(Optional)\n",
        "sns.distplot(x = pdi  ,  bins = 10 , kde = True , color = 'teal'\\\n",
        "             , kde_kws=dict(linewidth = 4 , color = 'black'))\n",
        "plt.show()"
      ],
      "execution_count": null,
      "outputs": [
        {
          "output_type": "stream",
          "text": [
            "/usr/local/lib/python3.7/dist-packages/seaborn/distributions.py:2557: FutureWarning: `distplot` is a deprecated function and will be removed in a future version. Please adapt your code to use either `displot` (a figure-level function with similar flexibility) or `histplot` (an axes-level function for histograms).\n",
            "  warnings.warn(msg, FutureWarning)\n"
          ],
          "name": "stderr"
        },
        {
          "output_type": "display_data",
          "data": {
            "image/png": "[encoded data removed]",
            "text/plain": [
              "<Figure size 720x360 with 1 Axes>"
            ]
          },
          "metadata": {
            "tags": []
          }
        }
      ]
    },
    {
      "cell_type": "code",
      "metadata": {
        "colab": {
          "base_uri": "https://localhost:8080/",
          "height": 374
        },
        "id": "BoO2dY0kJAi0",
        "outputId": "dc25e219-2e2c-49eb-d116-568438600cb4"
      },
      "source": [
        "sns.set_style(\"whitegrid\")  # Setting style(Optional)\n",
        "plt.figure(figsize = (10,5)) #Specify the size of figure we want(Optional)\n",
        "sns.distplot(x = sp  ,  bins = 10 , kde = True , color = 'teal'\\\n",
        "             , kde_kws=dict(linewidth = 4 , color = 'black'))\n",
        "plt.show()"
      ],
      "execution_count": null,
      "outputs": [
        {
          "output_type": "stream",
          "text": [
            "/usr/local/lib/python3.7/dist-packages/seaborn/distributions.py:2557: FutureWarning: `distplot` is a deprecated function and will be removed in a future version. Please adapt your code to use either `displot` (a figure-level function with similar flexibility) or `histplot` (an axes-level function for histograms).\n",
            "  warnings.warn(msg, FutureWarning)\n"
          ],
          "name": "stderr"
        },
        {
          "output_type": "display_data",
          "data": {
            "image/png": "[encoded data removed]",
            "text/plain": [
              "<Figure size 720x360 with 1 Axes>"
            ]
          },
          "metadata": {
            "tags": []
          }
        }
      ]
    },
    {
      "cell_type": "code",
      "metadata": {
        "colab": {
          "base_uri": "https://localhost:8080/",
          "height": 374
        },
        "id": "bA0YORI4JEix",
        "outputId": "8cbaa355-3467-4d58-87c4-fa3d7f94fa52"
      },
      "source": [
        "sns.set_style(\"whitegrid\")  # Setting style(Optional)\n",
        "plt.figure(figsize = (10,5)) #Specify the size of figure we want(Optional)\n",
        "sns.distplot(x = pi  ,  bins = 10 , kde = True , color = 'teal'\\\n",
        "             , kde_kws=dict(linewidth = 4 , color = 'black'))\n",
        "plt.show()"
      ],
      "execution_count": null,
      "outputs": [
        {
          "output_type": "stream",
          "text": [
            "/usr/local/lib/python3.7/dist-packages/seaborn/distributions.py:2557: FutureWarning: `distplot` is a deprecated function and will be removed in a future version. Please adapt your code to use either `displot` (a figure-level function with similar flexibility) or `histplot` (an axes-level function for histograms).\n",
            "  warnings.warn(msg, FutureWarning)\n"
          ],
          "name": "stderr"
        },
        {
          "output_type": "display_data",
          "data": {
            "image/png": "[encoded data removed]",
            "text/plain": [
              "<Figure size 720x360 with 1 Axes>"
            ]
          },
          "metadata": {
            "tags": []
          }
        }
      ]
    },
    {
      "cell_type": "code",
      "metadata": {
        "colab": {
          "base_uri": "https://localhost:8080/",
          "height": 284
        },
        "id": "lSPuvA8kzYli",
        "outputId": "d4eba03d-4cf4-4218-9222-26a1f5ac1a00"
      },
      "source": [
        "pd.DataFrame(profit).describe()"
      ],
      "execution_count": null,
      "outputs": [
        {
          "output_type": "execute_result",
          "data": {
            "text/html": [
              "<div>\n",
              "<style scoped>\n",
              "    .dataframe tbody tr th:only-of-type {\n",
              "        vertical-align: middle;\n",
              "    }\n",
              "\n",
              "    .dataframe tbody tr th {\n",
              "        vertical-align: top;\n",
              "    }\n",
              "\n",
              "    .dataframe thead th {\n",
              "        text-align: right;\n",
              "    }\n",
              "</style>\n",
              "<table border=\"1\" class=\"dataframe\">\n",
              "  <thead>\n",
              "    <tr style=\"text-align: right;\">\n",
              "      <th></th>\n",
              "      <th>0</th>\n",
              "    </tr>\n",
              "  </thead>\n",
              "  <tbody>\n",
              "    <tr>\n",
              "      <th>count</th>\n",
              "      <td>6700.000000</td>\n",
              "    </tr>\n",
              "    <tr>\n",
              "      <th>mean</th>\n",
              "      <td>26.076694</td>\n",
              "    </tr>\n",
              "    <tr>\n",
              "      <th>std</th>\n",
              "      <td>225.052611</td>\n",
              "    </tr>\n",
              "    <tr>\n",
              "      <th>min</th>\n",
              "      <td>-7205.500905</td>\n",
              "    </tr>\n",
              "    <tr>\n",
              "      <th>25%</th>\n",
              "      <td>1.702595</td>\n",
              "    </tr>\n",
              "    <tr>\n",
              "      <th>50%</th>\n",
              "      <td>8.651976</td>\n",
              "    </tr>\n",
              "    <tr>\n",
              "      <th>75%</th>\n",
              "      <td>29.175647</td>\n",
              "    </tr>\n",
              "    <tr>\n",
              "      <th>max</th>\n",
              "      <td>7674.211764</td>\n",
              "    </tr>\n",
              "  </tbody>\n",
              "</table>\n",
              "</div>"
            ],
            "text/plain": [
              "                 0\n",
              "count  6700.000000\n",
              "mean     26.076694\n",
              "std     225.052611\n",
              "min   -7205.500905\n",
              "25%       1.702595\n",
              "50%       8.651976\n",
              "75%      29.175647\n",
              "max    7674.211764"
            ]
          },
          "metadata": {
            "tags": []
          },
          "execution_count": 232
        }
      ]
    },
    {
      "cell_type": "code",
      "metadata": {
        "colab": {
          "base_uri": "https://localhost:8080/",
          "height": 374
        },
        "id": "wMgBR86ry3zc",
        "outputId": "05092e26-6a93-4a12-e9c7-9626f730c577"
      },
      "source": [
        "sns.set_style(\"whitegrid\")  # Setting style(Optional)\n",
        "plt.figure(figsize = (10,5)) #Specify the size of figure we want(Optional)\n",
        "sns.distplot(x = profit  ,  bins = 10 , kde = True , color = 'teal'\\\n",
        "             , kde_kws=dict(linewidth = 4 , color = 'black'))\n",
        "plt.show()"
      ],
      "execution_count": null,
      "outputs": [
        {
          "output_type": "stream",
          "text": [
            "/usr/local/lib/python3.7/dist-packages/seaborn/distributions.py:2557: FutureWarning: `distplot` is a deprecated function and will be removed in a future version. Please adapt your code to use either `displot` (a figure-level function with similar flexibility) or `histplot` (an axes-level function for histograms).\n",
            "  warnings.warn(msg, FutureWarning)\n"
          ],
          "name": "stderr"
        },
        {
          "output_type": "display_data",
          "data": {
            "image/png": "[encoded data removed]",
            "text/plain": [
              "<Figure size 720x360 with 1 Axes>"
            ]
          },
          "metadata": {
            "tags": []
          }
        }
      ]
    },
    {
      "cell_type": "code",
      "metadata": {
        "colab": {
          "base_uri": "https://localhost:8080/",
          "height": 374
        },
        "id": "uI4EeXeVy7UK",
        "outputId": "a9d98bf3-6f1e-4108-c32e-9462878565fa"
      },
      "source": [
        "sns.set_style(\"whitegrid\")  # Setting style(Optional)\n",
        "plt.figure(figsize = (10,5)) #Specify the size of figure we want(Optional)\n",
        "sns.distplot(x = discount  ,  bins = 10 , kde = True , color = 'teal'\\\n",
        "             , kde_kws=dict(linewidth = 4 , color = 'black'))\n",
        "plt.show()"
      ],
      "execution_count": null,
      "outputs": [
        {
          "output_type": "stream",
          "text": [
            "/usr/local/lib/python3.7/dist-packages/seaborn/distributions.py:2557: FutureWarning: `distplot` is a deprecated function and will be removed in a future version. Please adapt your code to use either `displot` (a figure-level function with similar flexibility) or `histplot` (an axes-level function for histograms).\n",
            "  warnings.warn(msg, FutureWarning)\n"
          ],
          "name": "stderr"
        },
        {
          "output_type": "display_data",
          "data": {
            "image/png": "[encoded data removed]",
            "text/plain": [
              "<Figure size 720x360 with 1 Axes>"
            ]
          },
          "metadata": {
            "tags": []
          }
        }
      ]
    },
    {
      "cell_type": "markdown",
      "metadata": {
        "id": "TfhIzvAZpX-I"
      },
      "source": [
        "After Yeo johnson transformation"
      ]
    },
    {
      "cell_type": "code",
      "metadata": {
        "id": "5nAptlafMlmW"
      },
      "source": [
        "discount, lmbda = stats.yeojohnson(discount)"
      ],
      "execution_count": null,
      "outputs": []
    },
    {
      "cell_type": "code",
      "metadata": {
        "colab": {
          "base_uri": "https://localhost:8080/",
          "height": 374
        },
        "id": "OP_06J1NppiK",
        "outputId": "043b57da-4f79-43b1-e01b-d45d8f75927a"
      },
      "source": [
        "sns.set_style(\"whitegrid\")  # Setting style(Optional)\n",
        "plt.figure(figsize = (10,5)) #Specify the size of figure we want(Optional)\n",
        "sns.distplot(x = discount  ,  bins = 10 , kde = True , color = 'teal'\\\n",
        "             , kde_kws=dict(linewidth = 4 , color = 'black'))\n",
        "plt.show()"
      ],
      "execution_count": null,
      "outputs": [
        {
          "output_type": "stream",
          "text": [
            "/usr/local/lib/python3.7/dist-packages/seaborn/distributions.py:2557: FutureWarning: `distplot` is a deprecated function and will be removed in a future version. Please adapt your code to use either `displot` (a figure-level function with similar flexibility) or `histplot` (an axes-level function for histograms).\n",
            "  warnings.warn(msg, FutureWarning)\n"
          ],
          "name": "stderr"
        },
        {
          "output_type": "display_data",
          "data": {
            "image/png": "[encoded data removed]",
            "text/plain": [
              "<Figure size 720x360 with 1 Axes>"
            ]
          },
          "metadata": {
            "tags": []
          }
        }
      ]
    },
    {
      "cell_type": "code",
      "metadata": {
        "id": "jzwokP82tjRb",
        "colab": {
          "base_uri": "https://localhost:8080/",
          "height": 284
        },
        "outputId": "6ec88045-c292-440a-e168-2b2cea330fac"
      },
      "source": [
        "df.describe()"
      ],
      "execution_count": null,
      "outputs": [
        {
          "output_type": "execute_result",
          "data": {
            "text/html": [
              "<div>\n",
              "<style scoped>\n",
              "    .dataframe tbody tr th:only-of-type {\n",
              "        vertical-align: middle;\n",
              "    }\n",
              "\n",
              "    .dataframe tbody tr th {\n",
              "        vertical-align: top;\n",
              "    }\n",
              "\n",
              "    .dataframe thead th {\n",
              "        text-align: right;\n",
              "    }\n",
              "</style>\n",
              "<table border=\"1\" class=\"dataframe\">\n",
              "  <thead>\n",
              "    <tr style=\"text-align: right;\">\n",
              "      <th></th>\n",
              "      <th>id</th>\n",
              "      <th>RID</th>\n",
              "      <th>no of items</th>\n",
              "      <th>address code</th>\n",
              "      <th>price</th>\n",
              "      <th>discount</th>\n",
              "      <th>profit</th>\n",
              "    </tr>\n",
              "  </thead>\n",
              "  <tbody>\n",
              "    <tr>\n",
              "      <th>count</th>\n",
              "      <td>6700.000000</td>\n",
              "      <td>6700.000000</td>\n",
              "      <td>6700.000000</td>\n",
              "      <td>6700.000000</td>\n",
              "      <td>6700.000000</td>\n",
              "      <td>6700.000000</td>\n",
              "      <td>6700.000000</td>\n",
              "    </tr>\n",
              "    <tr>\n",
              "      <th>mean</th>\n",
              "      <td>3350.500000</td>\n",
              "      <td>4954.381791</td>\n",
              "      <td>3.798507</td>\n",
              "      <td>54719.073284</td>\n",
              "      <td>234.424275</td>\n",
              "      <td>0.155876</td>\n",
              "      <td>29.121046</td>\n",
              "    </tr>\n",
              "    <tr>\n",
              "      <th>std</th>\n",
              "      <td>1934.267734</td>\n",
              "      <td>2921.304952</td>\n",
              "      <td>2.225327</td>\n",
              "      <td>32092.421012</td>\n",
              "      <td>641.440815</td>\n",
              "      <td>0.205922</td>\n",
              "      <td>230.712951</td>\n",
              "    </tr>\n",
              "    <tr>\n",
              "      <th>min</th>\n",
              "      <td>1.000000</td>\n",
              "      <td>1.000000</td>\n",
              "      <td>1.000000</td>\n",
              "      <td>1040.000000</td>\n",
              "      <td>0.836000</td>\n",
              "      <td>0.000000</td>\n",
              "      <td>-6599.978000</td>\n",
              "    </tr>\n",
              "    <tr>\n",
              "      <th>25%</th>\n",
              "      <td>1675.750000</td>\n",
              "      <td>2389.750000</td>\n",
              "      <td>2.000000</td>\n",
              "      <td>22204.000000</td>\n",
              "      <td>17.340000</td>\n",
              "      <td>0.000000</td>\n",
              "      <td>1.713750</td>\n",
              "    </tr>\n",
              "    <tr>\n",
              "      <th>50%</th>\n",
              "      <td>3350.500000</td>\n",
              "      <td>4941.500000</td>\n",
              "      <td>3.000000</td>\n",
              "      <td>55113.000000</td>\n",
              "      <td>54.960000</td>\n",
              "      <td>0.200000</td>\n",
              "      <td>8.803200</td>\n",
              "    </tr>\n",
              "    <tr>\n",
              "      <th>75%</th>\n",
              "      <td>5025.250000</td>\n",
              "      <td>7507.250000</td>\n",
              "      <td>5.000000</td>\n",
              "      <td>90004.000000</td>\n",
              "      <td>212.940000</td>\n",
              "      <td>0.200000</td>\n",
              "      <td>30.023400</td>\n",
              "    </tr>\n",
              "    <tr>\n",
              "      <th>max</th>\n",
              "      <td>6700.000000</td>\n",
              "      <td>9990.000000</td>\n",
              "      <td>14.000000</td>\n",
              "      <td>99301.000000</td>\n",
              "      <td>22638.480000</td>\n",
              "      <td>0.800000</td>\n",
              "      <td>8399.976000</td>\n",
              "    </tr>\n",
              "  </tbody>\n",
              "</table>\n",
              "</div>"
            ],
            "text/plain": [
              "                id          RID  ...     discount       profit\n",
              "count  6700.000000  6700.000000  ...  6700.000000  6700.000000\n",
              "mean   3350.500000  4954.381791  ...     0.155876    29.121046\n",
              "std    1934.267734  2921.304952  ...     0.205922   230.712951\n",
              "min       1.000000     1.000000  ...     0.000000 -6599.978000\n",
              "25%    1675.750000  2389.750000  ...     0.000000     1.713750\n",
              "50%    3350.500000  4941.500000  ...     0.200000     8.803200\n",
              "75%    5025.250000  7507.250000  ...     0.200000    30.023400\n",
              "max    6700.000000  9990.000000  ...     0.800000  8399.976000\n",
              "\n",
              "[8 rows x 7 columns]"
            ]
          },
          "metadata": {
            "tags": []
          },
          "execution_count": 10
        }
      ]
    },
    {
      "cell_type": "code",
      "metadata": {
        "colab": {
          "base_uri": "https://localhost:8080/",
          "height": 383
        },
        "id": "j9FL1cKbIz1F",
        "outputId": "7693c533-0917-4e6a-ea5e-a3b31d3397d6"
      },
      "source": [
        "address = df[[\"address code\"]]\n",
        "address = address.to_numpy()\n",
        "x = range(0,6700)\n",
        "plt.figure(figsize=(16, 5), dpi=80)\n",
        "plt.scatter(x, address,color = 'black', label='profit vs location_south')\n",
        "plt.title('Relation')\n",
        "plt.xlabel('South')\n",
        "plt.ylabel('Profit')\n",
        "plt.legend()\n",
        "plt.show()"
      ],
      "execution_count": null,
      "outputs": [
        {
          "output_type": "display_data",
          "data": {
            "image/png": "[encoded data removed]",
            "text/plain": [
              "<Figure size 1280x400 with 1 Axes>"
            ]
          },
          "metadata": {
            "tags": [],
            "needs_background": "light"
          }
        }
      ]
    },
    {
      "cell_type": "code",
      "metadata": {
        "colab": {
          "base_uri": "https://localhost:8080/"
        },
        "id": "_mU8s8y4Izxm",
        "outputId": "ae363a8b-7214-4732-d527-c035d6ea4adc"
      },
      "source": [
        "df[df['address code']>90000].shape"
      ],
      "execution_count": null,
      "outputs": [
        {
          "output_type": "execute_result",
          "data": {
            "text/plain": [
              "(1729, 16)"
            ]
          },
          "metadata": {
            "tags": []
          },
          "execution_count": 28
        }
      ]
    },
    {
      "cell_type": "code",
      "metadata": {
        "colab": {
          "base_uri": "https://localhost:8080/"
        },
        "id": "Wi2iDL2xIzrI",
        "outputId": "62a61864-aa69-413f-a260-1fbd8713586e"
      },
      "source": [
        "df[df['address code']<50000].shape"
      ],
      "execution_count": null,
      "outputs": [
        {
          "output_type": "execute_result",
          "data": {
            "text/plain": [
              "(3241, 16)"
            ]
          },
          "metadata": {
            "tags": []
          },
          "execution_count": 32
        }
      ]
    },
    {
      "cell_type": "code",
      "metadata": {
        "colab": {
          "base_uri": "https://localhost:8080/"
        },
        "id": "iddxpi78IzoN",
        "outputId": "5da2dba7-d133-42da-fe6f-53b80c223739"
      },
      "source": [
        "df[df['address code']>80000].shape"
      ],
      "execution_count": null,
      "outputs": [
        {
          "output_type": "execute_result",
          "data": {
            "text/plain": [
              "(2104, 16)"
            ]
          },
          "metadata": {
            "tags": []
          },
          "execution_count": 30
        }
      ]
    },
    {
      "cell_type": "code",
      "metadata": {
        "id": "V-nf3VPaIzmC"
      },
      "source": [
        ""
      ],
      "execution_count": null,
      "outputs": []
    },
    {
      "cell_type": "code",
      "metadata": {
        "id": "GZ5FrMn0IzkC"
      },
      "source": [
        ""
      ],
      "execution_count": null,
      "outputs": []
    },
    {
      "cell_type": "code",
      "metadata": {
        "id": "Oi1lJ5pqIzh_"
      },
      "source": [
        ""
      ],
      "execution_count": null,
      "outputs": []
    },
    {
      "cell_type": "code",
      "metadata": {
        "id": "tJgng11JIzf3"
      },
      "source": [
        ""
      ],
      "execution_count": null,
      "outputs": []
    },
    {
      "cell_type": "code",
      "metadata": {
        "id": "UiQrviDPIzdk"
      },
      "source": [
        ""
      ],
      "execution_count": null,
      "outputs": []
    }
  ]
}